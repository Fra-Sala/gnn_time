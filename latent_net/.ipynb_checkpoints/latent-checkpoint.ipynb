{
 "cells": [
  {
   "cell_type": "markdown",
   "id": "b1d5fbb1-7e55-40c8-80fb-a6f6b0b22148",
   "metadata": {},
   "source": [
    "# Latent Net implementation"
   ]
  },
  {
   "cell_type": "code",
   "execution_count": 1,
   "id": "7f51803d-01e8-4ea6-9c19-6bffc1be9e1a",
   "metadata": {},
   "outputs": [],
   "source": [
    "# Install PyTorch\n",
    "try:\n",
    "  import torch\n",
    "except ImportError:\n",
    "  !pip3 install torch torchvision torchaudio --index-url https://download.pytorch.org/whl/cu118\n",
    "  import torch"
   ]
  },
  {
   "cell_type": "code",
   "execution_count": 2,
   "id": "c1f52d59-55e1-4540-803c-59c4ca33aebe",
   "metadata": {},
   "outputs": [],
   "source": [
    "# Install PyG\n",
    "try:\n",
    "  import torch_geometric\n",
    "except ImportError:\n",
    "  !pip3 install torch_geometric\n",
    "  import torch_geometric"
   ]
  },
  {
   "cell_type": "code",
   "execution_count": 3,
   "id": "7a9237fc-915f-4e9c-a12b-5d2961dc95ff",
   "metadata": {},
   "outputs": [],
   "source": [
    "import numpy as np"
   ]
  },
  {
   "cell_type": "code",
   "execution_count": 4,
   "id": "15914e3a-616a-4041-9e0d-89f682d819ab",
   "metadata": {},
   "outputs": [],
   "source": [
    "# Import some utils from gca-rom\n",
    "import sys\n",
    "if 'google.colab' in str(get_ipython()):\n",
    "    !git clone https://github.com/Fra-Sala/gnn_time.git\n",
    "    sys.path.append('gnn_time')\n",
    "else:\n",
    "    sys.path.append('./..')\n",
    "    \n",
    "from gca_rom import pde, scaling\n",
    "import dynamics_network, initialization, loader, preprocessing_scale # train"
   ]
  },
  {
   "cell_type": "code",
   "execution_count": 5,
   "id": "8a8843c2-1c90-47eb-a8a3-f986a67550ea",
   "metadata": {},
   "outputs": [
    {
     "name": "stdout",
     "output_type": "stream",
     "text": [
      "\n",
      "Problem:  lid_cavity\n",
      "Variable:  U\n",
      "Parameters:  2\n"
     ]
    }
   ],
   "source": [
    "problem_name, variable, mu_space, n_param = pde.problem(11)\n",
    "print(\"\\nProblem: \", problem_name)\n",
    "print(\"Variable: \", variable)\n",
    "print(\"Parameters: \", n_param)"
   ]
  },
  {
   "cell_type": "code",
   "execution_count": 6,
   "id": "47a4bcef-ce44-41bc-945d-74391b13fa80",
   "metadata": {},
   "outputs": [],
   "source": [
    "# Parameters to be set\n",
    "\n",
    "preset = [3, 2, 2, 2, 1, 3, 3, 1]\n",
    "train_rate = 70\n",
    "dim_latent = 10\n",
    "epochs = 5000\n",
    "dt = 1e-2 # For forward euler\n",
    "scaling_type = 3\n",
    "scaler_number = 3\n",
    "\n",
    "\n",
    "argv = [problem_name, variable, scaling_type, scaler_number, train_rate, 1e-3, 1e-3, dim_latent, dt, epochs]\n",
    "\n",
    "HyperParams = dynamics_network.HyperParams(argv)"
   ]
  },
  {
   "cell_type": "markdown",
   "id": "1dc8c7f9-d824-47ec-959b-502bd191c77e",
   "metadata": {},
   "source": [
    "# Initialization"
   ]
  },
  {
   "cell_type": "code",
   "execution_count": 7,
   "id": "158ef096-993b-413c-9f3f-c5f876447ea8",
   "metadata": {},
   "outputs": [
    {
     "name": "stdout",
     "output_type": "stream",
     "text": [
      "Device used:  cpu\n"
     ]
    }
   ],
   "source": [
    "device = initialization.set_device()\n",
    "initialization.set_reproducibility(HyperParams)"
   ]
  },
  {
   "cell_type": "markdown",
   "id": "06e1aaa6-f32a-427f-8852-9ccb9bd5d92c",
   "metadata": {},
   "source": [
    "# Load dataset"
   ]
  },
  {
   "cell_type": "code",
   "execution_count": 8,
   "id": "6a74c604-1878-4d98-b0df-dc9405962749",
   "metadata": {},
   "outputs": [],
   "source": [
    "if 'google.colab' in str(get_ipython()):\n",
    "    dataset_dir = '/content/gnn_time/dataset/'+problem_name+'_unstructured.mat'\n",
    "else:\n",
    "    dataset_dir = '../dataset/'+problem_name+'_unstructured.mat'\n",
    "    \n",
    "dataset = loader.LoadDataset(dataset_dir, variable)"
   ]
  },
  {
   "cell_type": "code",
   "execution_count": 9,
   "id": "1369f679-d0d4-4809-8077-6b2b8ddb7c87",
   "metadata": {},
   "outputs": [
    {
     "name": "stdout",
     "output_type": "stream",
     "text": [
      "Loaded the parameters\n",
      "torch.Size([180, 2])\n"
     ]
    }
   ],
   "source": [
    "# Define the tensor of params\n",
    "mu_space_cp = mu_space.copy()\n",
    "time = mu_space_cp.pop()\n",
    "\n",
    "#Delete the initial condition of each simulation\n",
    "del_indx = len(time)+1\n",
    "dataset.U = np.delete(dataset.U, np.s_[::del_indx], 1)\n",
    "\n",
    "params = []\n",
    "for i in range(len(mu_space_cp[0])):\n",
    "    set_coeff = [arr[i] for arr in mu_space_cp]\n",
    "    for j in range(len(time)):\n",
    "        new_set = np.concatenate((set_coeff, [time[j]]), axis = 0)\n",
    "        params.append(new_set)\n",
    "\n",
    "params = torch.tensor(params)\n",
    "params = params.to(device)\n",
    "print(\"Loaded the parameters\")\n",
    "print(params.shape)"
   ]
  },
  {
   "cell_type": "code",
   "execution_count": 10,
   "id": "11d09da7-2848-447f-a6df-9fa9f52e407a",
   "metadata": {},
   "outputs": [
    {
     "data": {
      "text/plain": [
       "tensor([[0.0000, 0.0000, 0.0000, 0.0000, 0.0000, 0.0000, 0.0000, 0.0000, 0.0000],\n",
       "        [1.0000, 1.0000, 1.0000, 1.0000, 1.0000, 1.0000, 1.0000, 1.0000, 1.0000],\n",
       "        [1.0000, 1.0000, 1.0000, 1.0000, 1.0000, 1.0000, 1.0000, 1.0000, 1.0000],\n",
       "        [0.5000, 0.5000, 0.5000, 0.5000, 0.5000, 0.5000, 0.5000, 0.5000, 0.5000],\n",
       "        [1.0000, 1.0000, 1.0000, 1.0000, 1.0000, 1.0000, 1.0000, 1.0000, 1.0000],\n",
       "        [0.5000, 0.5000, 0.5000, 0.5000, 0.5000, 0.5000, 0.5000, 0.5000, 0.5000],\n",
       "        [0.0000, 0.0000, 0.0000, 0.0000, 0.0000, 0.0000, 0.0000, 0.0000, 0.0000],\n",
       "        [0.5000, 0.5000, 0.5000, 0.5000, 0.5000, 0.5000, 0.5000, 0.5000, 0.5000],\n",
       "        [0.0000, 0.0000, 0.0000, 0.0000, 0.0000, 0.0000, 0.0000, 0.0000, 0.0000]])"
      ]
     },
     "execution_count": 10,
     "metadata": {},
     "output_type": "execute_result"
    }
   ],
   "source": []
  },
  {
   "cell_type": "code",
   "execution_count": 11,
   "id": "cf1f3420-c2b5-470f-ab4f-4f0a0ed2fd51",
   "metadata": {},
   "outputs": [
    {
     "name": "stdout",
     "output_type": "stream",
     "text": [
      "Number of nodes processed:  15681\n",
      "Number of shapshots processed:  180\n",
      "> \u001b[0;32m/home/francesco/Desktop/SEMESTER_PROJECT_2/gnn_time/latent_net/preprocessing_scale.py\u001b[0m(64)\u001b[0;36mprocess_and_scale_dataset\u001b[0;34m()\u001b[0m\n",
      "\u001b[0;32m     63 \u001b[0;31m    \u001b[0;31m# Create PyTorch tensors for the scaled data\u001b[0m\u001b[0;34m\u001b[0m\u001b[0;34m\u001b[0m\u001b[0m\n",
      "\u001b[0m\u001b[0;32m---> 64 \u001b[0;31m    \u001b[0mVAR_all_tensor\u001b[0m \u001b[0;34m=\u001b[0m \u001b[0mtorch\u001b[0m\u001b[0;34m.\u001b[0m\u001b[0mtensor\u001b[0m\u001b[0;34m(\u001b[0m\u001b[0mVAR_all\u001b[0m\u001b[0;34m,\u001b[0m \u001b[0mdtype\u001b[0m\u001b[0;34m=\u001b[0m\u001b[0mtorch\u001b[0m\u001b[0;34m.\u001b[0m\u001b[0mfloat32\u001b[0m\u001b[0;34m)\u001b[0m\u001b[0;34m\u001b[0m\u001b[0;34m\u001b[0m\u001b[0m\n",
      "\u001b[0m\u001b[0;32m     65 \u001b[0;31m    \u001b[0mVAR_test_tensor\u001b[0m \u001b[0;34m=\u001b[0m \u001b[0mtorch\u001b[0m\u001b[0;34m.\u001b[0m\u001b[0mtensor\u001b[0m\u001b[0;34m(\u001b[0m\u001b[0mVAR_test\u001b[0m\u001b[0;34m,\u001b[0m \u001b[0mdtype\u001b[0m\u001b[0;34m=\u001b[0m\u001b[0mtorch\u001b[0m\u001b[0;34m.\u001b[0m\u001b[0mfloat32\u001b[0m\u001b[0;34m)\u001b[0m\u001b[0;34m\u001b[0m\u001b[0;34m\u001b[0m\u001b[0m\n",
      "\u001b[0m\n"
     ]
    },
    {
     "name": "stdin",
     "output_type": "stream",
     "text": [
      "ipdb>  VAR_all\n"
     ]
    },
    {
     "name": "stdout",
     "output_type": "stream",
     "text": [
      "tensor([[[-1.0443],\n",
      "         [ 0.0000],\n",
      "         [ 0.0000],\n",
      "         ...,\n",
      "         [-0.5084],\n",
      "         [-0.5090],\n",
      "         [-1.2956]],\n",
      "\n",
      "        [[-1.0330],\n",
      "         [ 0.0000],\n",
      "         [ 0.0000],\n",
      "         ...,\n",
      "         [-0.5049],\n",
      "         [-0.5056],\n",
      "         [-1.2786]],\n",
      "\n",
      "        [[-1.0330],\n",
      "         [ 0.0000],\n",
      "         [ 0.0000],\n",
      "         ...,\n",
      "         [-0.5027],\n",
      "         [-0.5034],\n",
      "         [-1.2731]],\n",
      "\n",
      "        ...,\n",
      "\n",
      "        [[-0.4606],\n",
      "         [ 0.0000],\n",
      "         [ 0.0000],\n",
      "         ...,\n",
      "         [-0.4529],\n",
      "         [-0.4533],\n",
      "         [-0.3482]],\n",
      "\n",
      "        [[-0.4606],\n",
      "         [ 0.0000],\n",
      "         [ 0.0000],\n",
      "         ...,\n",
      "         [-0.3953],\n",
      "         [-0.3959],\n",
      "         [-0.3364]],\n",
      "\n",
      "        [[-0.6905],\n",
      "         [ 0.0000],\n",
      "         [ 0.0000],\n",
      "         ...,\n",
      "         [-0.3872],\n",
      "         [-0.3878],\n",
      "         [-0.5657]]])\n"
     ]
    },
    {
     "name": "stdin",
     "output_type": "stream",
     "text": [
      "ipdb>  VAR_all.shape\n"
     ]
    },
    {
     "name": "stdout",
     "output_type": "stream",
     "text": [
      "torch.Size([180, 15681, 1])\n"
     ]
    },
    {
     "name": "stdin",
     "output_type": "stream",
     "text": [
      "ipdb>  scaler_all\n"
     ]
    },
    {
     "name": "stdout",
     "output_type": "stream",
     "text": [
      "[StandardScaler(), StandardScaler()]\n"
     ]
    },
    {
     "name": "stdin",
     "output_type": "stream",
     "text": [
      "ipdb>  var\n"
     ]
    },
    {
     "name": "stdout",
     "output_type": "stream",
     "text": [
      "tensor([[3.7960e-02, 6.1421e-02, 6.1421e-02,  ..., 1.2535e+00, 1.2535e+00,\n",
      "         7.7471e-01],\n",
      "        [0.0000e+00, 0.0000e+00, 0.0000e+00,  ..., 0.0000e+00, 0.0000e+00,\n",
      "         0.0000e+00],\n",
      "        [0.0000e+00, 0.0000e+00, 0.0000e+00,  ..., 0.0000e+00, 0.0000e+00,\n",
      "         0.0000e+00],\n",
      "        ...,\n",
      "        [9.2720e-04, 1.9940e-03, 2.6758e-03,  ..., 1.8098e-02, 3.5898e-02,\n",
      "         3.8393e-02],\n",
      "        [9.4044e-04, 2.0228e-03, 2.7146e-03,  ..., 1.8509e-02, 3.6612e-02,\n",
      "         3.9172e-02],\n",
      "        [4.1225e-03, 7.8296e-03, 9.0348e-03,  ..., 2.1059e-01, 2.1317e-01,\n",
      "         1.6319e-01]])\n"
     ]
    },
    {
     "name": "stdin",
     "output_type": "stream",
     "text": [
      "ipdb>  var.shape\n"
     ]
    },
    {
     "name": "stdout",
     "output_type": "stream",
     "text": [
      "torch.Size([15681, 180])\n"
     ]
    },
    {
     "name": "stdin",
     "output_type": "stream",
     "text": [
      "ipdb>  VAR_all\n"
     ]
    },
    {
     "name": "stdout",
     "output_type": "stream",
     "text": [
      "tensor([[[-1.0443],\n",
      "         [ 0.0000],\n",
      "         [ 0.0000],\n",
      "         ...,\n",
      "         [-0.5084],\n",
      "         [-0.5090],\n",
      "         [-1.2956]],\n",
      "\n",
      "        [[-1.0330],\n",
      "         [ 0.0000],\n",
      "         [ 0.0000],\n",
      "         ...,\n",
      "         [-0.5049],\n",
      "         [-0.5056],\n",
      "         [-1.2786]],\n",
      "\n",
      "        [[-1.0330],\n",
      "         [ 0.0000],\n",
      "         [ 0.0000],\n",
      "         ...,\n",
      "         [-0.5027],\n",
      "         [-0.5034],\n",
      "         [-1.2731]],\n",
      "\n",
      "        ...,\n",
      "\n",
      "        [[-0.4606],\n",
      "         [ 0.0000],\n",
      "         [ 0.0000],\n",
      "         ...,\n",
      "         [-0.4529],\n",
      "         [-0.4533],\n",
      "         [-0.3482]],\n",
      "\n",
      "        [[-0.4606],\n",
      "         [ 0.0000],\n",
      "         [ 0.0000],\n",
      "         ...,\n",
      "         [-0.3953],\n",
      "         [-0.3959],\n",
      "         [-0.3364]],\n",
      "\n",
      "        [[-0.6905],\n",
      "         [ 0.0000],\n",
      "         [ 0.0000],\n",
      "         ...,\n",
      "         [-0.3872],\n",
      "         [-0.3878],\n",
      "         [-0.5657]]])\n"
     ]
    },
    {
     "name": "stdin",
     "output_type": "stream",
     "text": [
      "ipdb>  VAR_all.shape\n"
     ]
    },
    {
     "name": "stdout",
     "output_type": "stream",
     "text": [
      "torch.Size([180, 15681, 1])\n"
     ]
    },
    {
     "name": "stdin",
     "output_type": "stream",
     "text": [
      "ipdb>  C\n"
     ]
    },
    {
     "name": "stdout",
     "output_type": "stream",
     "text": [
      "*** NameError: name 'C' is not defined\n"
     ]
    },
    {
     "name": "stdin",
     "output_type": "stream",
     "text": [
      "ipdb>  c\n"
     ]
    },
    {
     "name": "stdout",
     "output_type": "stream",
     "text": [
      "> \u001b[0;32m/home/francesco/Desktop/SEMESTER_PROJECT_2/gnn_time/latent_net/preprocessing_scale.py\u001b[0m(71)\u001b[0;36mprocess_and_scale_dataset\u001b[0;34m()\u001b[0m\n",
      "\u001b[0;32m     70 \u001b[0;31m    \u001b[0;31m###### HOW TO DEAL WITH THESE PYTORCH DATASETS?\u001b[0m\u001b[0;34m\u001b[0m\u001b[0;34m\u001b[0m\u001b[0m\n",
      "\u001b[0m\u001b[0;32m---> 71 \u001b[0;31m    \u001b[0mtrain_data\u001b[0m \u001b[0;34m=\u001b[0m \u001b[0mTensorDataset\u001b[0m\u001b[0;34m(\u001b[0m\u001b[0mVAR_train_tensor\u001b[0m\u001b[0;34m,\u001b[0m \u001b[0mVAR_train_tensor\u001b[0m\u001b[0;34m)\u001b[0m\u001b[0;34m\u001b[0m\u001b[0;34m\u001b[0m\u001b[0m\n",
      "\u001b[0m\u001b[0;32m     72 \u001b[0;31m    \u001b[0mtest_data\u001b[0m \u001b[0;34m=\u001b[0m \u001b[0mTensorDataset\u001b[0m\u001b[0;34m(\u001b[0m\u001b[0mVAR_test_tensor\u001b[0m\u001b[0;34m,\u001b[0m \u001b[0mVAR_test_tensor\u001b[0m\u001b[0;34m)\u001b[0m\u001b[0;34m\u001b[0m\u001b[0;34m\u001b[0m\u001b[0m\n",
      "\u001b[0m\n"
     ]
    },
    {
     "name": "stdin",
     "output_type": "stream",
     "text": [
      "ipdb>  c\n"
     ]
    }
   ],
   "source": [
    "train_loader, test_loader, scaler_all,\\\n",
    "scaler_test, VAR_all, VAR_test, train_snapshots,\\\n",
    "test_snapshots= preprocessing_scale.process_and_scale_dataset(dataset, HyperParams)"
   ]
  },
  {
   "cell_type": "raw",
   "id": "adba8e1d-9513-42ed-b30d-b1d3ae0fa1b3",
   "metadata": {},
   "source": []
  },
  {
   "cell_type": "code",
   "execution_count": null,
   "id": "bfbbd4c8-0d76-42a1-85f0-941850f6f50d",
   "metadata": {},
   "outputs": [
    {
     "name": "stdout",
     "output_type": "stream",
     "text": [
      "Number of nodes processed:  15681\n",
      "Number of shapshots processed:  180\n",
      "> \u001b[0;32m/home/francesco/Desktop/SEMESTER_PROJECT_2/gnn_time/latent_net/preprocessing_scale.py\u001b[0m(65)\u001b[0;36mprocess_and_scale_dataset\u001b[0;34m()\u001b[0m\n",
      "\u001b[0;32m     64 \u001b[0;31m    \u001b[0mipdb\u001b[0m\u001b[0;34m.\u001b[0m\u001b[0mset_trace\u001b[0m\u001b[0;34m(\u001b[0m\u001b[0;34m)\u001b[0m\u001b[0;34m\u001b[0m\u001b[0;34m\u001b[0m\u001b[0m\n",
      "\u001b[0m\u001b[0;32m---> 65 \u001b[0;31m    \u001b[0mtrain_loader\u001b[0m \u001b[0;34m=\u001b[0m \u001b[0mDataLoader\u001b[0m\u001b[0;34m(\u001b[0m\u001b[0mtrain_data\u001b[0m\u001b[0;34m,\u001b[0m \u001b[0mbatch_size\u001b[0m\u001b[0;34m=\u001b[0m\u001b[0mtrain_sims\u001b[0m\u001b[0;34m,\u001b[0m \u001b[0mshuffle\u001b[0m\u001b[0;34m=\u001b[0m\u001b[0;32mFalse\u001b[0m\u001b[0;34m)\u001b[0m\u001b[0;34m\u001b[0m\u001b[0;34m\u001b[0m\u001b[0m\n",
      "\u001b[0m\u001b[0;32m     66 \u001b[0;31m    \u001b[0mtest_loader\u001b[0m \u001b[0;34m=\u001b[0m \u001b[0mDataLoader\u001b[0m\u001b[0;34m(\u001b[0m\u001b[0mtest_data\u001b[0m\u001b[0;34m,\u001b[0m \u001b[0mbatch_size\u001b[0m\u001b[0;34m=\u001b[0m\u001b[0mtest_sims\u001b[0m\u001b[0;34m,\u001b[0m \u001b[0mshuffle\u001b[0m\u001b[0;34m=\u001b[0m\u001b[0;32mFalse\u001b[0m\u001b[0;34m)\u001b[0m\u001b[0;34m\u001b[0m\u001b[0;34m\u001b[0m\u001b[0m\n",
      "\u001b[0m\n"
     ]
    },
    {
     "name": "stdin",
     "output_type": "stream",
     "text": [
      "ipdb>  train_loader\n"
     ]
    },
    {
     "name": "stdout",
     "output_type": "stream",
     "text": [
      "*** NameError: name 'train_loader' is not defined\n"
     ]
    },
    {
     "name": "stdin",
     "output_type": "stream",
     "text": [
      "ipdb>  train_data\n"
     ]
    },
    {
     "name": "stdout",
     "output_type": "stream",
     "text": [
      "<torch.utils.data.dataset.TensorDataset object at 0x7f53fd72a090>\n"
     ]
    },
    {
     "name": "stdin",
     "output_type": "stream",
     "text": [
      "ipdb>  train_data.shape\n"
     ]
    },
    {
     "name": "stdout",
     "output_type": "stream",
     "text": [
      "*** AttributeError: 'TensorDataset' object has no attribute 'shape'\n"
     ]
    },
    {
     "name": "stdin",
     "output_type": "stream",
     "text": [
      "ipdb>  train.data[0]\n"
     ]
    },
    {
     "name": "stdout",
     "output_type": "stream",
     "text": [
      "*** NameError: name 'train' is not defined\n"
     ]
    },
    {
     "name": "stdin",
     "output_type": "stream",
     "text": [
      "ipdb>  print(train_data)\n"
     ]
    },
    {
     "name": "stdout",
     "output_type": "stream",
     "text": [
      "<torch.utils.data.dataset.TensorDataset object at 0x7f53fd72a090>\n"
     ]
    },
    {
     "name": "stdin",
     "output_type": "stream",
     "text": [
      "ipdb>  print(train_data[0])\n"
     ]
    },
    {
     "name": "stdout",
     "output_type": "stream",
     "text": [
      "(tensor([[ 0.7504],\n",
      "        [ 0.9079],\n",
      "        [ 0.9079],\n",
      "        ...,\n",
      "        [-0.0773],\n",
      "        [-0.0879],\n",
      "        [-0.0390]], dtype=torch.float32), tensor([[ 0.7504],\n",
      "        [ 0.9079],\n",
      "        [ 0.9079],\n",
      "        ...,\n",
      "        [-0.0773],\n",
      "        [-0.0879],\n",
      "        [-0.0390]], dtype=torch.float32))\n"
     ]
    },
    {
     "name": "stdin",
     "output_type": "stream",
     "text": [
      "ipdb>  print(train_data[0].shape)\n"
     ]
    },
    {
     "name": "stdout",
     "output_type": "stream",
     "text": [
      "*** AttributeError: 'tuple' object has no attribute 'shape'\n"
     ]
    }
   ],
   "source": [
    "train_loader, test_loader, scaler_all,\\\n",
    "scaler_test, VAR_all, VAR_test, train_snapshots,\\\n",
    "test_snapshots= preprocessing_scale.process_and_scale_dataset(dataset, HyperParams)"
   ]
  },
  {
   "cell_type": "code",
   "execution_count": 12,
   "id": "5d0a82a7-8c2d-40bc-9dff-3e0925de42d6",
   "metadata": {},
   "outputs": [
    {
     "data": {
      "text/plain": [
       "5000"
      ]
     },
     "execution_count": 12,
     "metadata": {},
     "output_type": "execute_result"
    }
   ],
   "source": [
    "HyperParams.max_epochs"
   ]
  },
  {
   "cell_type": "markdown",
   "id": "29db1a91-f21f-4868-9030-3c2a9d02a60c",
   "metadata": {},
   "source": [
    "# Define the architecture"
   ]
  },
  {
   "cell_type": "code",
   "execution_count": 13,
   "id": "72961189-4e3f-4be3-ba1d-a52af6ed3f07",
   "metadata": {},
   "outputs": [],
   "source": [
    "# The dynamics net takes u(t) as input and s(t)\n",
    "dyn_input_size = 2 + HyperParams.dim_latent\n",
    "dyn_hidden_size = 9\n",
    "dim = 2\n",
    "rec_input_size = dim + HyperParams.dim_latent\n",
    "rec_hidden_size = dyn_hidden_size\n",
    "rec_output_size = 1\n",
    "\n",
    "\n",
    "dyn_model = dynamics_network.DynNet(dyn_input_size, dyn_hidden_size, HyperParams.dim_latent)\n",
    "rec_model = dynamics_network.RecNet(rec_input_size, rec_hidden_size, rec_output_size)\n",
    "dyn_model = dyn_model.to(device)\n",
    "rec_model = rec_model.to(device)\n",
    "\n",
    "# Define optimizers for both models\n",
    "dyn_optimizer = torch.optim.Adam(dyn_model.parameters(), lr=HyperParams.learning_rate,  weight_decay=HyperParams.weight_decay)\n",
    "rec_optimizer = torch.optim.Adam(rec_model.parameters(), lr=HyperParams.learning_rate,  weight_decay=HyperParams.weight_decay)\n",
    "dyn_scheduler = torch.optim.lr_scheduler.MultiStepLR(dyn_optimizer, milestones=HyperParams.miles, gamma=HyperParams.gamma)\n",
    "rec_scheduler = torch.optim.lr_scheduler.MultiStepLR(rec_optimizer, milestones=HyperParams.miles, gamma=HyperParams.gamma)"
   ]
  },
  {
   "cell_type": "code",
   "execution_count": null,
   "id": "28ce6354-870c-4de2-93d3-60732d7534ce",
   "metadata": {},
   "outputs": [],
   "source": [
    "\n",
    "    "
   ]
  },
  {
   "cell_type": "markdown",
   "id": "c5f49619-2e97-442f-97cb-79f8c40ff42d",
   "metadata": {},
   "source": [
    "# Train the network"
   ]
  },
  {
   "cell_type": "code",
   "execution_count": 14,
   "id": "32d5b31b-8357-4a3f-bb7b-cb8aa4b314b9",
   "metadata": {},
   "outputs": [
    {
     "ename": "NameError",
     "evalue": "name 'train' is not defined",
     "output_type": "error",
     "traceback": [
      "\u001b[0;31m---------------------------------------------------------------------------\u001b[0m",
      "\u001b[0;31mNameError\u001b[0m                                 Traceback (most recent call last)",
      "Cell \u001b[0;32mIn[14], line 3\u001b[0m\n\u001b[1;32m      1\u001b[0m \u001b[38;5;66;03m# Need to properly define the training function\u001b[39;00m\n\u001b[0;32m----> 3\u001b[0m train\u001b[38;5;241m.\u001b[39mtrain_dyn_rec_nets(dyn_model, rec_model, dyn_optimizer, rec_optimizer, device, params, train_loader, test_loader, HyperParams)\n",
      "\u001b[0;31mNameError\u001b[0m: name 'train' is not defined"
     ]
    }
   ],
   "source": [
    "# Need to properly define the training function\n",
    "\n",
    "train.train_dyn_rec_nets(dyn_model, rec_model, dyn_optimizer, rec_optimizer, device, params, train_loader, test_loader, HyperParams)"
   ]
  },
  {
   "cell_type": "code",
   "execution_count": null,
   "id": "2c30cf63-1a12-4c56-ac5a-3b051fc3d432",
   "metadata": {},
   "outputs": [],
   "source": [
    "# Define your loss function (e.g., Mean Squared Error)\n",
    "loss_fn = torch.nn.MSELoss()\n",
    "\n",
    "# Training loop\n",
    "for epoch in range(epochs):\n",
    "    dyn_model.train()\n",
    "    rec_model.train()\n",
    "    total_loss = 0.0\n",
    "    \n",
    "    for i in range(len(params)):\n",
    "        # Load data for the current parameter set\n",
    "        u_t = parameters[i]  # \n",
    "        s_t = torch.zeros(HyperParams.dim_latent)  # Initialize s(t) with zeros\n",
    "\n",
    "        for t in range(u_t.size(0)):\n",
    "            # Forward pass through DynNet\n",
    "            dyn_input = torch.cat((u_t[t], s_t), dim=0)\n",
    "            s_t_derivative = dyn_model(dyn_input)\n",
    "\n",
    "            # Compute s(tn+1) using forward Euler method\n",
    "            s_t_plus_one = s_t + dt * s_t_derivative\n",
    "\n",
    "            # Forward pass through RecNet\n",
    "            rec_input = torch.cat((s_t_plus_one, position_x, position_y), dim=0)\n",
    "            y_pred = rec_model(rec_input)\n",
    "\n",
    "            # Calculate the loss\n",
    "            target_velocity = dataset.U[i][t]  # Assuming V is the target velocity\n",
    "            loss = loss_fn(y_pred, target_velocity)\n",
    "            total_loss += loss.item()\n",
    "\n",
    "            # Backpropagation and parameter updates for both models\n",
    "            dyn_optimizer.zero_grad()\n",
    "            rec_optimizer.zero_grad()\n",
    "            loss.backward()\n",
    "            dyn_optimizer.step()\n",
    "            rec_optimizer.step()\n",
    "\n",
    "            # Update s(t) for the next time step\n",
    "            s_t = s_t_plus_one\n",
    "\n",
    "    # Print the average loss for this epoch\n",
    "    average_loss = total_loss / len(params)\n",
    "    print(f\"Epoch [{epoch+1}/{epochs}] - Loss: {average_loss:.4f}\")\n",
    "\n",
    "    # Adjust the learning rates\n",
    "    dyn_scheduler.step()\n",
    "    rec_scheduler.step()\n",
    "\n",
    "torch.save(dyn_model.state_dict(), 'dyn_model.pth')\n",
    "torch.save(rec_model.state_dict(), 'rec_model.pth')\n",
    "\n"
   ]
  }
 ],
 "metadata": {
  "kernelspec": {
   "display_name": "Python 3 (ipykernel)",
   "language": "python",
   "name": "python3"
  },
  "language_info": {
   "codemirror_mode": {
    "name": "ipython",
    "version": 3
   },
   "file_extension": ".py",
   "mimetype": "text/x-python",
   "name": "python",
   "nbconvert_exporter": "python",
   "pygments_lexer": "ipython3",
   "version": "3.11.5"
  }
 },
 "nbformat": 4,
 "nbformat_minor": 5
}
