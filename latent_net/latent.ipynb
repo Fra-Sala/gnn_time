{
 "cells": [
  {
   "cell_type": "markdown",
   "id": "b1d5fbb1-7e55-40c8-80fb-a6f6b0b22148",
   "metadata": {},
   "source": [
    "# Latent Net implementation"
   ]
  },
  {
   "cell_type": "code",
   "execution_count": 1,
   "id": "7f51803d-01e8-4ea6-9c19-6bffc1be9e1a",
   "metadata": {},
   "outputs": [],
   "source": [
    "# Install PyTorch\n",
    "try:\n",
    "  import torch\n",
    "except ImportError:\n",
    "  !pip3 install torch torchvision torchaudio --index-url https://download.pytorch.org/whl/cu118\n",
    "  import torch\n",
    "\n",
    "#torch.set_default_dtype(torch.float32)"
   ]
  },
  {
   "cell_type": "code",
   "execution_count": 2,
   "id": "c1f52d59-55e1-4540-803c-59c4ca33aebe",
   "metadata": {},
   "outputs": [],
   "source": [
    "# Install PyG\n",
    "try:\n",
    "  import torch_geometric\n",
    "except ImportError:\n",
    "  !pip3 install torch_geometric\n",
    "  import torch_geometric"
   ]
  },
  {
   "cell_type": "code",
   "execution_count": 3,
   "id": "7a9237fc-915f-4e9c-a12b-5d2961dc95ff",
   "metadata": {},
   "outputs": [],
   "source": [
    "import numpy as np"
   ]
  },
  {
   "cell_type": "code",
   "execution_count": 4,
   "id": "15914e3a-616a-4041-9e0d-89f682d819ab",
   "metadata": {},
   "outputs": [],
   "source": [
    "# Import some utils from gca-rom\n",
    "import sys\n",
    "if 'google.colab' in str(get_ipython()):\n",
    "    !git clone https://github.com/Fra-Sala/gnn_time.git\n",
    "    sys.path.append('gnn_time')\n",
    "else:\n",
    "    sys.path.append('./..')\n",
    "    \n",
    "#from gca_rom import pde, scaling\n",
    "from latent_net import dynamics_network, initialization, loader, preprocessing_scale, train"
   ]
  },
  {
   "cell_type": "code",
   "execution_count": 5,
   "id": "8a8843c2-1c90-47eb-a8a3-f986a67550ea",
   "metadata": {},
   "outputs": [
    {
     "name": "stdout",
     "output_type": "stream",
     "text": [
      "\n",
      "Problem:  lid_cavity\n",
      "Variable:  U\n"
     ]
    }
   ],
   "source": [
    "variable = 'U'\n",
    "problem_name = 'lid_cavity'\n",
    "print(\"\\nProblem: \", problem_name)\n",
    "print(\"Variable: \", variable)\n"
   ]
  },
  {
   "cell_type": "code",
   "execution_count": 6,
   "id": "47a4bcef-ce44-41bc-945d-74391b13fa80",
   "metadata": {},
   "outputs": [],
   "source": [
    "# Parameters to be set\n",
    "\n",
    "#preset = [3, 2, 2, 2, 1, 3, 3, 1]\n",
    "\n",
    "train_rate = 70 ###### Shrink train dataset\n",
    "dim_latent = 10\n",
    "epochs = 50\n",
    "dt = 1e-1 # For forward euler\n",
    "scaling_type = 2 # scale only against the features\n",
    "scaler_number = 3 # type of scaling function. 3 -> standard\n",
    "\n",
    "argv = [problem_name, variable, scaling_type, scaler_number, train_rate, 1e-3, 1e-3, dim_latent, dt, epochs]\n",
    "HyperParams = dynamics_network.HyperParams(argv)"
   ]
  },
  {
   "cell_type": "markdown",
   "id": "1dc8c7f9-d824-47ec-959b-502bd191c77e",
   "metadata": {},
   "source": [
    "# Initialization"
   ]
  },
  {
   "cell_type": "code",
   "execution_count": 7,
   "id": "158ef096-993b-413c-9f3f-c5f876447ea8",
   "metadata": {},
   "outputs": [
    {
     "name": "stdout",
     "output_type": "stream",
     "text": [
      "Device used:  cpu\n"
     ]
    }
   ],
   "source": [
    "device = initialization.set_device()\n",
    "initialization.set_reproducibility(HyperParams)"
   ]
  },
  {
   "cell_type": "markdown",
   "id": "06e1aaa6-f32a-427f-8852-9ccb9bd5d92c",
   "metadata": {},
   "source": [
    "# Load dataset"
   ]
  },
  {
   "cell_type": "code",
   "execution_count": 8,
   "id": "6a74c604-1878-4d98-b0df-dc9405962749",
   "metadata": {},
   "outputs": [],
   "source": [
    "if 'google.colab' in str(get_ipython()):\n",
    "    dataset_dir = '/content/gnn_time/dataset/'+problem_name+'_unstructured.mat'\n",
    "else:\n",
    "    dataset_dir = '../dataset/'+problem_name+'_unstructured.mat'\n",
    "\n",
    "# Import the data from the mat file \n",
    "dataset = loader.LoadDataset(dataset_dir, variable)\n",
    "\n",
    "# Delete the initial condition of each case\n",
    "dataset.U = np.delete(dataset.U, np.s_[::10], 1)"
   ]
  },
  {
   "cell_type": "code",
   "execution_count": 9,
   "id": "1369f679-d0d4-4809-8077-6b2b8ddb7c87",
   "metadata": {},
   "outputs": [
    {
     "name": "stdout",
     "output_type": "stream",
     "text": [
      "Number of simulations: 180\n",
      "Number of instants of time: 9\n"
     ]
    }
   ],
   "source": [
    "# New approach for the parameters. Just store u(t) for all snapshots and the time t. if necessary, interpolate u(t) linearly\n",
    "\n",
    "if 'google.colab' in str(get_ipython()):\n",
    "    u_t_latent = np.load('/content/gnn_time/lid_driven_cavity_fenics/u_t_latent.npy')\n",
    "else:\n",
    "    u_t_latent = np.load('../lid_driven_cavity_fenics/u_t_latent.npy')\n",
    "\n",
    "time = np.linspace(0.2, 1.8, 9)\n",
    "\n",
    "# Get rid of the initial condition evaluation (0.0)\n",
    "u_t_latent = np.delete(u_t_latent, np.s_[::10], 0)   \n",
    "u_t_tensor = torch.from_numpy(u_t_latent)\n",
    "time_tensor = torch.from_numpy(time)\n",
    "print(\"Number of simulations:\", len(u_t_latent))\n",
    "print(\"Number of instants of time:\", len(time))\n",
    "\n"
   ]
  },
  {
   "cell_type": "code",
   "execution_count": 10,
   "id": "cf1f3420-c2b5-470f-ab4f-4f0a0ed2fd51",
   "metadata": {},
   "outputs": [
    {
     "name": "stdout",
     "output_type": "stream",
     "text": [
      "Number of nodes processed:  15681\n",
      "Number of shapshots processed:  180\n"
     ]
    }
   ],
   "source": [
    "train_loader, test_loader, scaler_all,\\\n",
    "scaler_test, VAR_all, VAR_test, train_snapshots,\\\n",
    "test_snapshots, position_dataset = preprocessing_scale.process_and_scale_dataset(dataset, HyperParams)"
   ]
  },
  {
   "cell_type": "code",
   "execution_count": null,
   "id": "31deb30e",
   "metadata": {},
   "outputs": [],
   "source": []
  },
  {
   "cell_type": "markdown",
   "id": "29db1a91-f21f-4868-9030-3c2a9d02a60c",
   "metadata": {},
   "source": [
    "# Define the architecture"
   ]
  },
  {
   "cell_type": "code",
   "execution_count": 11,
   "id": "72961189-4e3f-4be3-ba1d-a52af6ed3f07",
   "metadata": {},
   "outputs": [],
   "source": [
    "# The dynamics net takes u(t) as input and s(t)\n",
    "dyn_input_size = 1 + HyperParams.dim_latent\n",
    "dyn_hidden_size = 9\n",
    "dim = 2 # we are in 2D\n",
    "\n",
    "rec_input_size = dim*HyperParams.batch_size_pos + HyperParams.dim_latent\n",
    "rec_hidden_size = dyn_hidden_size\n",
    "rec_output_size = HyperParams.batch_size_pos\n",
    "\n",
    "\n",
    "dyn_model = dynamics_network.DynNet(dyn_input_size, dyn_hidden_size, HyperParams.dim_latent)\n",
    "rec_model = dynamics_network.RecNet(rec_input_size, rec_hidden_size, rec_output_size)\n",
    "dyn_model = dyn_model.to(device)\n",
    "rec_model = rec_model.to(device)\n",
    "\n",
    "# Define optimizers for both models\n",
    "#dyn_optimizer = torch.optim.Adam(list(dyn_model.parameters()) + list(rec_model.parameters()), lr=HyperParams.learning_rate,  weight_decay=HyperParams.weight_decay)\n",
    "#optimizer = torch.optim.Adam(list(dyn_model.parameters()) + list(rec_model.parameters()), lr=HyperParams.learning_rate,  weight_decay=HyperParams.weight_decay)\n",
    "torch.set_default_dtype(torch.float32)\n",
    "optimizer = torch.optim.Adam([\n",
    "    {'params': dyn_model.parameters()},\n",
    "    {'params': rec_model.parameters()}\n",
    "], lr=HyperParams.learning_rate,  weight_decay=HyperParams.weight_decay)\n",
    "#dyn_optimizer = torch.optim.LBFGS(dyn_model.parameters(), lr=HyperParams.learning_rate)\n",
    "#rec_optimizer = torch.optim.LBFGS(rec_model.parameters(), lr=HyperParams.learning_rate)\n",
    "#dyn_scheduler = torch.optim.lr_scheduler.MultiStepLR(dyn_optimizer, milestones=HyperParams.miles, gamma=HyperParams.gamma)\n",
    "scheduler = torch.optim.lr_scheduler.MultiStepLR(optimizer, milestones=HyperParams.miles, gamma=HyperParams.gamma)"
   ]
  },
  {
   "cell_type": "markdown",
   "id": "c5f49619-2e97-442f-97cb-79f8c40ff42d",
   "metadata": {},
   "source": [
    "# Train the network"
   ]
  },
  {
   "cell_type": "code",
   "execution_count": 12,
   "id": "32d5b31b-8357-4a3f-bb7b-cb8aa4b314b9",
   "metadata": {},
   "outputs": [
    {
     "name": "stderr",
     "output_type": "stream",
     "text": [
      "  0%|          | 0/50 [00:00<?, ?it/s]"
     ]
    },
    {
     "name": "stderr",
     "output_type": "stream",
     "text": [
      "  2%|▏         | 1/50 [00:40<33:00, 40.41s/it, Loss(training)=9.36, Loss(test)=99.1]\n"
     ]
    },
    {
     "ename": "KeyboardInterrupt",
     "evalue": "",
     "output_type": "error",
     "traceback": [
      "\u001b[0;31m---------------------------------------------------------------------------\u001b[0m",
      "\u001b[0;31mKeyboardInterrupt\u001b[0m                         Traceback (most recent call last)",
      "\u001b[1;32m/home/francesco/Desktop/SEMESTER_PROJECT_2/gnn_time/latent_net/latent.ipynb Cell 18\u001b[0m line \u001b[0;36m4\n\u001b[1;32m      <a href='vscode-notebook-cell:/home/francesco/Desktop/SEMESTER_PROJECT_2/gnn_time/latent_net/latent.ipynb#X23sZmlsZQ%3D%3D?line=0'>1</a>\u001b[0m \u001b[39mimport\u001b[39;00m \u001b[39mcProfile\u001b[39;00m\n\u001b[1;32m      <a href='vscode-notebook-cell:/home/francesco/Desktop/SEMESTER_PROJECT_2/gnn_time/latent_net/latent.ipynb#X23sZmlsZQ%3D%3D?line=1'>2</a>\u001b[0m \u001b[39m############# Shrink the test dataset ##############\u001b[39;00m\n\u001b[1;32m      <a href='vscode-notebook-cell:/home/francesco/Desktop/SEMESTER_PROJECT_2/gnn_time/latent_net/latent.ipynb#X23sZmlsZQ%3D%3D?line=2'>3</a>\u001b[0m \u001b[39m#test_snapshots = test_snapshots[:5]\u001b[39;00m\n\u001b[0;32m----> <a href='vscode-notebook-cell:/home/francesco/Desktop/SEMESTER_PROJECT_2/gnn_time/latent_net/latent.ipynb#X23sZmlsZQ%3D%3D?line=3'>4</a>\u001b[0m train_history, test_history \u001b[39m=\u001b[39m train\u001b[39m.\u001b[39mtrain_dyn_rec_nets(dyn_model, rec_model, optimizer, scheduler,\\\n\u001b[1;32m      <a href='vscode-notebook-cell:/home/francesco/Desktop/SEMESTER_PROJECT_2/gnn_time/latent_net/latent.ipynb#X23sZmlsZQ%3D%3D?line=4'>5</a>\u001b[0m                           device, u_t_tensor ,time_tensor, train_loader, test_loader, position_dataset, train_snapshots, test_snapshots, HyperParams)\n",
      "File \u001b[0;32m~/Desktop/SEMESTER_PROJECT_2/gnn_time/latent_net/./../latent_net/train.py:39\u001b[0m, in \u001b[0;36mtrain_dyn_rec_nets\u001b[0;34m(dyn_model, rec_model, optimizer, scheduler, device, u_t, times, train_loader, test_loader, position_dataset, train_snapshots, test_snapshots, HyperParams)\u001b[0m\n\u001b[1;32m     34\u001b[0m \u001b[39mfor\u001b[39;00m epoch \u001b[39min\u001b[39;00m loop:\n\u001b[1;32m     35\u001b[0m \n\u001b[1;32m     36\u001b[0m     \u001b[39m# Shuffle the batches of positions\u001b[39;00m\n\u001b[1;32m     37\u001b[0m     pos_batch_sampler, position_loader \u001b[39m=\u001b[39m shuffle_dataset\u001b[39m.\u001b[39mshuffle_position_dataset(position_dataset, HyperParams, seed\u001b[39m=\u001b[39mepoch)\n\u001b[0;32m---> 39\u001b[0m     train_loss \u001b[39m=\u001b[39m train_one_epoch(dyn_model, rec_model, optimizer, scheduler, device, u_t,\\\n\u001b[1;32m     40\u001b[0m                                   times, train_loader, position_loader, train_snapshots, HyperParams, pos_batch_sampler)\n\u001b[1;32m     41\u001b[0m     train_history[\u001b[39m\"\u001b[39m\u001b[39mloss\u001b[39m\u001b[39m\"\u001b[39m]\u001b[39m.\u001b[39mappend(train_loss)\n\u001b[1;32m     43\u001b[0m     \u001b[39m# Evaluate the model on the test set and store the results in test_history\u001b[39;00m\n",
      "File \u001b[0;32m~/Desktop/SEMESTER_PROJECT_2/gnn_time/latent_net/./../latent_net/train.py:110\u001b[0m, in \u001b[0;36mtrain_one_epoch\u001b[0;34m(dyn_model, rec_model, optimizer, scheduler, device, u_t, times, train_loader, position_loader, train_snapshots, HyperParams, pos_batch_sampler)\u001b[0m\n\u001b[1;32m    108\u001b[0m         velocity_target \u001b[39m=\u001b[39m data[n_snap, np\u001b[39m.\u001b[39marray(pos_indices), \u001b[39m0\u001b[39m]\n\u001b[1;32m    109\u001b[0m         loss_rec \u001b[39m=\u001b[39m F\u001b[39m.\u001b[39mmse_loss(velocity_pred, velocity_target, reduction\u001b[39m=\u001b[39m\u001b[39m\"\u001b[39m\u001b[39mmean\u001b[39m\u001b[39m\"\u001b[39m)\n\u001b[0;32m--> 110\u001b[0m         loss_rec\u001b[39m.\u001b[39mbackward(retain_graph\u001b[39m=\u001b[39m\u001b[39mTrue\u001b[39;00m)\n\u001b[1;32m    112\u001b[0m train_loss \u001b[39m+\u001b[39m\u001b[39m=\u001b[39m loss_rec\u001b[39m.\u001b[39mitem()\n\u001b[1;32m    114\u001b[0m \u001b[39m# if (k + 1) % 2 == 0 and k != len(times) - 1:\u001b[39;00m\n\u001b[1;32m    115\u001b[0m \u001b[39m#     for param in dyn_model.parameters():\u001b[39;00m\n\u001b[1;32m    116\u001b[0m \u001b[39m#         if param.grad is not None:\u001b[39;00m\n\u001b[1;32m    117\u001b[0m \u001b[39m#             param.grad = None \u001b[39;00m\n",
      "File \u001b[0;32m~/anaconda3/envs/fenicsproject/lib/python3.11/site-packages/torch/_tensor.py:487\u001b[0m, in \u001b[0;36mTensor.backward\u001b[0;34m(self, gradient, retain_graph, create_graph, inputs)\u001b[0m\n\u001b[1;32m    477\u001b[0m \u001b[39mif\u001b[39;00m has_torch_function_unary(\u001b[39mself\u001b[39m):\n\u001b[1;32m    478\u001b[0m     \u001b[39mreturn\u001b[39;00m handle_torch_function(\n\u001b[1;32m    479\u001b[0m         Tensor\u001b[39m.\u001b[39mbackward,\n\u001b[1;32m    480\u001b[0m         (\u001b[39mself\u001b[39m,),\n\u001b[0;32m   (...)\u001b[0m\n\u001b[1;32m    485\u001b[0m         inputs\u001b[39m=\u001b[39minputs,\n\u001b[1;32m    486\u001b[0m     )\n\u001b[0;32m--> 487\u001b[0m torch\u001b[39m.\u001b[39mautograd\u001b[39m.\u001b[39mbackward(\n\u001b[1;32m    488\u001b[0m     \u001b[39mself\u001b[39m, gradient, retain_graph, create_graph, inputs\u001b[39m=\u001b[39minputs\n\u001b[1;32m    489\u001b[0m )\n",
      "File \u001b[0;32m~/anaconda3/envs/fenicsproject/lib/python3.11/site-packages/torch/autograd/__init__.py:200\u001b[0m, in \u001b[0;36mbackward\u001b[0;34m(tensors, grad_tensors, retain_graph, create_graph, grad_variables, inputs)\u001b[0m\n\u001b[1;32m    195\u001b[0m     retain_graph \u001b[39m=\u001b[39m create_graph\n\u001b[1;32m    197\u001b[0m \u001b[39m# The reason we repeat same the comment below is that\u001b[39;00m\n\u001b[1;32m    198\u001b[0m \u001b[39m# some Python versions print out the first line of a multi-line function\u001b[39;00m\n\u001b[1;32m    199\u001b[0m \u001b[39m# calls in the traceback and some print out the last line\u001b[39;00m\n\u001b[0;32m--> 200\u001b[0m Variable\u001b[39m.\u001b[39m_execution_engine\u001b[39m.\u001b[39mrun_backward(  \u001b[39m# Calls into the C++ engine to run the backward pass\u001b[39;00m\n\u001b[1;32m    201\u001b[0m     tensors, grad_tensors_, retain_graph, create_graph, inputs,\n\u001b[1;32m    202\u001b[0m     allow_unreachable\u001b[39m=\u001b[39m\u001b[39mTrue\u001b[39;00m, accumulate_grad\u001b[39m=\u001b[39m\u001b[39mTrue\u001b[39;00m)\n",
      "\u001b[0;31mKeyboardInterrupt\u001b[0m: "
     ]
    }
   ],
   "source": [
    "import cProfile\n",
    "############# Shrink the test dataset ##############\n",
    "#test_snapshots = test_snapshots[:5]\n",
    "train_history, test_history = train.train_dyn_rec_nets(dyn_model, rec_model, optimizer, scheduler,\\\n",
    "                          device, u_t_tensor ,time_tensor, train_loader, test_loader, position_dataset, train_snapshots, test_snapshots, HyperParams)"
   ]
  },
  {
   "cell_type": "code",
   "execution_count": null,
   "id": "2c30cf63-1a12-4c56-ac5a-3b051fc3d432",
   "metadata": {},
   "outputs": [
    {
     "data": {
      "image/png": "[encoded data removed]",
      "text/plain": [
       "<Figure size 640x480 with 1 Axes>"
      ]
     },
     "metadata": {},
     "output_type": "display_data"
    }
   ],
   "source": [
    "from matplotlib import pyplot as plt\n",
    "\n",
    "plt.plot(train_history['loss'], label='train loss')\n",
    "plt.plot(test_history['loss'], label='test loss')\n",
    "plt.legend()\n",
    "\n",
    "plt.grid()\n",
    "\n",
    "plt.xlabel('epoch')\n",
    "plt.ylabel('loss')\n",
    "plt.show()\n"
   ]
  }
 ],
 "metadata": {
  "kernelspec": {
   "display_name": "Python 3 (ipykernel)",
   "language": "python",
   "name": "python3"
  },
  "language_info": {
   "codemirror_mode": {
    "name": "ipython",
    "version": 3
   },
   "file_extension": ".py",
   "mimetype": "text/x-python",
   "name": "python",
   "nbconvert_exporter": "python",
   "pygments_lexer": "ipython3",
   "version": "3.11.5"
  }
 },
 "nbformat": 4,
 "nbformat_minor": 5
}
