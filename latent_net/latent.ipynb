{
 "cells": [
  {
   "cell_type": "markdown",
   "id": "b1d5fbb1-7e55-40c8-80fb-a6f6b0b22148",
   "metadata": {},
   "source": [
    "# Latent Net implementation"
   ]
  },
  {
   "cell_type": "markdown",
   "id": "0bf3594d",
   "metadata": {},
   "source": [
    ">> Notes to the new implementation - debugging\n",
    "\n",
    "\n",
    ">> - the implementation of the Fourier features is wrong. get back to that later\n",
    ">> - make sure that the train function loops over the parameters that are part  of the train set (i.e. the alphas that define the training sims)\n",
    ">> - the append operation\n",
    ">> - plot the latent state\n",
    ">> - remove the train_snaphots and test_snapshots variables\n",
    ">> - for each parameter, I train always on the same positions. to be changed?"
   ]
  },
  {
   "cell_type": "code",
   "execution_count": 1,
   "id": "7f51803d-01e8-4ea6-9c19-6bffc1be9e1a",
   "metadata": {},
   "outputs": [],
   "source": [
    "# Install PyTorch\n",
    "try:\n",
    "  import torch\n",
    "except ImportError:\n",
    "  !pip3 install torch torchvision torchaudio --index-url https://download.pytorch.org/whl/cu118\n",
    "  import torch\n",
    "\n",
    "#torch.set_default_dtype(torch.float32)"
   ]
  },
  {
   "cell_type": "code",
   "execution_count": 2,
   "id": "c1f52d59-55e1-4540-803c-59c4ca33aebe",
   "metadata": {},
   "outputs": [],
   "source": [
    "# Install PyG\n",
    "try:\n",
    "  import torch_geometric\n",
    "except ImportError:\n",
    "  !pip3 install torch_geometric\n",
    "  import torch_geometric"
   ]
  },
  {
   "cell_type": "code",
   "execution_count": 3,
   "id": "7a9237fc-915f-4e9c-a12b-5d2961dc95ff",
   "metadata": {},
   "outputs": [],
   "source": [
    "import numpy as np"
   ]
  },
  {
   "cell_type": "code",
   "execution_count": 4,
   "id": "15914e3a-616a-4041-9e0d-89f682d819ab",
   "metadata": {},
   "outputs": [
    {
     "name": "stderr",
     "output_type": "stream",
     "text": [
      "/home/francesco/anaconda3/envs/fenicsproject/lib/python3.11/site-packages/torchvision/io/image.py:13: UserWarning: Failed to load image Python extension: 'libc10_cuda.so: cannot open shared object file: No such file or directory'If you don't plan on using image functionality from `torchvision.io`, you can ignore this warning. Otherwise, there might be something wrong with your environment. Did you have `libjpeg` or `libpng` installed before building `torchvision` from source?\n",
      "  warn(\n"
     ]
    }
   ],
   "source": [
    "# Import some utils from gca-rom\n",
    "import sys\n",
    "if 'google.colab' in str(get_ipython()):\n",
    "    !git clone https://github.com/Fra-Sala/gnn_time.git\n",
    "    sys.path.append('gnn_time')\n",
    "else:\n",
    "    sys.path.append('./..')\n",
    "    \n",
    "#from gca_rom import pde, scaling\n",
    "from latent_net import dynamics_network, initialization, loader, preprocessing_scale, train"
   ]
  },
  {
   "cell_type": "code",
   "execution_count": 5,
   "id": "8a8843c2-1c90-47eb-a8a3-f986a67550ea",
   "metadata": {},
   "outputs": [
    {
     "name": "stdout",
     "output_type": "stream",
     "text": [
      "\n",
      "Problem:  lid_cavity\n",
      "Variable:  U\n"
     ]
    }
   ],
   "source": [
    "variable = 'U'\n",
    "problem_name = 'lid_cavity'\n",
    "print(\"\\nProblem: \", problem_name)\n",
    "print(\"Variable: \", variable)\n"
   ]
  },
  {
   "cell_type": "code",
   "execution_count": 6,
   "id": "47a4bcef-ce44-41bc-945d-74391b13fa80",
   "metadata": {},
   "outputs": [],
   "source": [
    "# Parameters to be set\n",
    "\n",
    "#preset = [3, 2, 2, 2, 1, 3, 3, 1]\n",
    "\n",
    "train_rate = 50 ###### Shrink train dataset\n",
    "dim_latent = 10\n",
    "epochs = 1000\n",
    "dt = 1e-1 # For forward euler\n",
    "scaling_type = 2 # scale only against the features\n",
    "scaler_number = 3 # type of scaling function. 3 -> standard\n",
    "\n",
    "argv = [problem_name, variable, scaling_type, scaler_number, train_rate, 1e-3, 1e-3, dim_latent, dt, epochs]\n",
    "HyperParams = dynamics_network.HyperParams(argv)"
   ]
  },
  {
   "cell_type": "markdown",
   "id": "1dc8c7f9-d824-47ec-959b-502bd191c77e",
   "metadata": {},
   "source": [
    "# Initialization"
   ]
  },
  {
   "cell_type": "code",
   "execution_count": 7,
   "id": "158ef096-993b-413c-9f3f-c5f876447ea8",
   "metadata": {},
   "outputs": [
    {
     "name": "stdout",
     "output_type": "stream",
     "text": [
      "Device used:  cpu\n"
     ]
    }
   ],
   "source": [
    "device = initialization.set_device()\n",
    "initialization.set_reproducibility(HyperParams)"
   ]
  },
  {
   "cell_type": "markdown",
   "id": "06e1aaa6-f32a-427f-8852-9ccb9bd5d92c",
   "metadata": {},
   "source": [
    "# Load dataset"
   ]
  },
  {
   "cell_type": "code",
   "execution_count": 8,
   "id": "6a74c604-1878-4d98-b0df-dc9405962749",
   "metadata": {},
   "outputs": [],
   "source": [
    "if 'google.colab' in str(get_ipython()):\n",
    "    dataset_dir = '/content/gnn_time/dataset/'+problem_name+'_unstructured.mat'\n",
    "else:\n",
    "    dataset_dir = '../dataset/'+problem_name+'_unstructured.mat'\n",
    "\n",
    "# Import the data from the mat file \n",
    "dataset = loader.LoadDataset(dataset_dir, variable)\n",
    "\n",
    "# Delete the initial condition of each case\n",
    "dataset.U = np.delete(dataset.U, np.s_[::10], 1)\n",
    "\n",
    "# Take first 3 snaps for two simulations\n",
    "# cols_to_delete = list(range(3, 9)) + list(range(12, dataset.U.shape[1]))\n",
    "# dataset.U = np.delete(dataset.U, cols_to_delete, 1)\n",
    "\n",
    "\n",
    "### DEBUG: take only the first two snapshots\n",
    "\n",
    "#dataset.U = np.delete(dataset.U,np.s_[1:],1 )"
   ]
  },
  {
   "cell_type": "code",
   "execution_count": 9,
   "id": "6ab929c9",
   "metadata": {},
   "outputs": [
    {
     "data": {
      "text/plain": [
       "tensor([[3.7960e-02, 6.1421e-02, 6.1421e-02,  ..., 1.2535e+00, 1.2535e+00,\n",
       "         7.7471e-01],\n",
       "        [0.0000e+00, 0.0000e+00, 0.0000e+00,  ..., 0.0000e+00, 0.0000e+00,\n",
       "         0.0000e+00],\n",
       "        [0.0000e+00, 0.0000e+00, 0.0000e+00,  ..., 0.0000e+00, 0.0000e+00,\n",
       "         0.0000e+00],\n",
       "        ...,\n",
       "        [9.2720e-04, 1.9940e-03, 2.6758e-03,  ..., 1.8098e-02, 3.5898e-02,\n",
       "         3.8393e-02],\n",
       "        [9.4044e-04, 2.0228e-03, 2.7146e-03,  ..., 1.8509e-02, 3.6612e-02,\n",
       "         3.9172e-02],\n",
       "        [4.1225e-03, 7.8296e-03, 9.0348e-03,  ..., 2.1059e-01, 2.1317e-01,\n",
       "         1.6319e-01]])"
      ]
     },
     "execution_count": 9,
     "metadata": {},
     "output_type": "execute_result"
    }
   ],
   "source": [
    "dataset.U"
   ]
  },
  {
   "cell_type": "code",
   "execution_count": 10,
   "id": "1369f679-d0d4-4809-8077-6b2b8ddb7c87",
   "metadata": {},
   "outputs": [
    {
     "name": "stdout",
     "output_type": "stream",
     "text": [
      "Number of simulations (series of snaps): 20\n",
      "Number of instants of time: 9\n"
     ]
    }
   ],
   "source": [
    "# New approach for the parameters. Just store u(t) for all snapshots and the time t. if necessary, interpolate u(t) linearly\n",
    "\n",
    "# if 'google.colab' in str(get_ipython()):\n",
    "#     u_t_latent = np.load('/content/gnn_time/lid_driven_cavity_fenics/u_t_latent.npy')\n",
    "# else:\n",
    "#     u_t_latent = np.load('../lid_driven_cavity_fenics/u_t_latent.npy')\n",
    "\n",
    "# Import the single Fourier mode\n",
    "if 'google.colab' in str(get_ipython()):\n",
    "    alpha1_vec = np.load('/content/gnn_time/lid_driven_cavity_fenics/alpha1.npy')\n",
    "else:\n",
    "    alpha1_vec = np.load('../lid_driven_cavity_fenics/alpha1.npy')\n",
    "\n",
    "############ TAKE ONLY THE FIRST two PARAMETER (FOURIER COEFF) #############\n",
    "params = alpha1_vec\n",
    "time = np.linspace(0.0, 1.8, 10)\n",
    "\n",
    "# Get rid of the initial condition evaluation (0.0)\n",
    "# u_t_latent = np.delete(u_t_latent, np.s_[::10], 0)   \n",
    "# u_t_tensor = torch.from_numpy(u_t_latent)\n",
    "time_tensor = torch.from_numpy(time)\n",
    "print(\"Number of simulations (series of snaps):\", len(params))\n",
    "print(\"Number of instants of time:\", len(time)-1)\n",
    "\n",
    "#alpha1_vec = alpha1_vec.reshape(-1,1)\n"
   ]
  },
  {
   "cell_type": "code",
   "execution_count": null,
   "id": "ad2414b6",
   "metadata": {},
   "outputs": [],
   "source": []
  },
  {
   "cell_type": "code",
   "execution_count": 11,
   "id": "cf1f3420-c2b5-470f-ab4f-4f0a0ed2fd51",
   "metadata": {},
   "outputs": [
    {
     "name": "stdout",
     "output_type": "stream",
     "text": [
      "Number of nodes processed:  15681\n",
      "Number of simulations processed:  20\n"
     ]
    }
   ],
   "source": [
    "train_loader, test_loader, scaler_all,\\\n",
    "scaler_test, VAR_all, VAR_test, train_snapshots,\\\n",
    "test_snapshots, position_dataset, params_train, params_test = preprocessing_scale.process_and_scale_dataset(dataset, HyperParams, params)"
   ]
  },
  {
   "cell_type": "code",
   "execution_count": 12,
   "id": "31deb30e",
   "metadata": {},
   "outputs": [
    {
     "data": {
      "text/plain": [
       "tensor([[ 1.0000, -1.0000, -1.0000,  ..., -0.9521, -0.9515, -0.7939],\n",
       "        [ 1.0000, -1.0000, -1.0000,  ..., -0.9383, -0.9375, -0.8056],\n",
       "        [ 1.0000, -1.0000, -1.0000,  ..., -0.9196, -0.9186, -0.8446],\n",
       "        ...,\n",
       "        [ 1.0000, -1.0000, -1.0000,  ..., -0.9711, -0.9705, -0.6640],\n",
       "        [ 1.0000, -1.0000, -1.0000,  ..., -0.9427, -0.9416, -0.6599],\n",
       "        [ 1.0000, -1.0000, -1.0000,  ..., -0.9009, -0.8989, -0.5787]])"
      ]
     },
     "execution_count": 12,
     "metadata": {},
     "output_type": "execute_result"
    }
   ],
   "source": [
    "data_test_iterator = iter(test_loader)\n",
    "data_test = next(data_test_iterator).to(device)\n",
    "data_test[:, :, 0]"
   ]
  },
  {
   "cell_type": "markdown",
   "id": "29db1a91-f21f-4868-9030-3c2a9d02a60c",
   "metadata": {},
   "source": [
    "# Define the architecture"
   ]
  },
  {
   "cell_type": "code",
   "execution_count": 13,
   "id": "72961189-4e3f-4be3-ba1d-a52af6ed3f07",
   "metadata": {},
   "outputs": [],
   "source": [
    "# The dynamics net takes u(t) as input and s(t)\n",
    "dyn_input_size = 1 + HyperParams.dim_latent\n",
    "dyn_hidden_size = 9\n",
    "dim = 2 # we are in 2D\n",
    "\n",
    "#rec_input_size = dim*HyperParams.rff_encoded_mult*HyperParams.batch_pos_size + HyperParams.dim_latent\n",
    "rec_input_size = dim*HyperParams.batch_pos_size + HyperParams.dim_latent\n",
    "rec_hidden_size = dyn_hidden_size\n",
    "rec_output_size = HyperParams.batch_pos_size\n",
    "\n",
    "\n",
    "dyn_model = dynamics_network.DynNet(dyn_input_size, dyn_hidden_size, HyperParams.dim_latent)\n",
    "rec_model = dynamics_network.RecNet(rec_input_size, rec_hidden_size, rec_output_size)\n",
    "dyn_model = dyn_model.to(device)\n",
    "rec_model = rec_model.to(device)\n",
    "\n",
    "# Define optimizers for both models\n",
    "#dyn_optimizer = torch.optim.Adam(list(dyn_model.parameters()) + list(rec_model.parameters()), lr=HyperParams.learning_rate,  weight_decay=HyperParams.weight_decay)\n",
    "#optimizer = torch.optim.Adam(list(dyn_model.parameters()) + list(rec_model.parameters()), lr=HyperParams.learning_rate,  weight_decay=HyperParams.weight_decay)\n",
    "torch.set_default_dtype(torch.float32)\n",
    "optimizer = torch.optim.Adam([\n",
    "    {'params': dyn_model.parameters()},\n",
    "    {'params': rec_model.parameters()}\n",
    "], lr=HyperParams.learning_rate,  weight_decay=HyperParams.weight_decay)\n",
    "scheduler = torch.optim.lr_scheduler.MultiStepLR(optimizer, milestones=HyperParams.miles, gamma=HyperParams.gamma)"
   ]
  },
  {
   "cell_type": "markdown",
   "id": "c5f49619-2e97-442f-97cb-79f8c40ff42d",
   "metadata": {},
   "source": [
    "# Train the network"
   ]
  },
  {
   "cell_type": "code",
   "execution_count": 17,
   "id": "32d5b31b-8357-4a3f-bb7b-cb8aa4b314b9",
   "metadata": {},
   "outputs": [
    {
     "name": "stderr",
     "output_type": "stream",
     "text": [
      "  0%|          | 0/1000 [04:00<?, ?it/s]\n"
     ]
    },
    {
     "ename": "RuntimeError",
     "evalue": "Trying to backward through the graph a second time (or directly access saved tensors after they have already been freed). Saved intermediate values of the graph are freed when you call .backward() or autograd.grad(). Specify retain_graph=True if you need to backward through the graph a second time or if you need to access saved tensors after calling backward.",
     "output_type": "error",
     "traceback": [
      "\u001b[0;31m---------------------------------------------------------------------------\u001b[0m",
      "\u001b[0;31mRuntimeError\u001b[0m                              Traceback (most recent call last)",
      "\u001b[1;32m/home/francesco/Desktop/SEMESTER_PROJECT_2/gnn_time/latent_net/latent.ipynb Cell 21\u001b[0m line \u001b[0;36m1\n\u001b[0;32m----> <a href='vscode-notebook-cell:/home/francesco/Desktop/SEMESTER_PROJECT_2/gnn_time/latent_net/latent.ipynb#X26sZmlsZQ%3D%3D?line=0'>1</a>\u001b[0m train_history, test_history \u001b[39m=\u001b[39m train\u001b[39m.\u001b[39mtrain_dyn_rec_nets(dyn_model, rec_model, optimizer, scheduler,\\\n\u001b[1;32m      <a href='vscode-notebook-cell:/home/francesco/Desktop/SEMESTER_PROJECT_2/gnn_time/latent_net/latent.ipynb#X26sZmlsZQ%3D%3D?line=1'>2</a>\u001b[0m                           device, params_train, params_test, time_tensor, train_loader, test_loader, position_dataset,\\\n\u001b[1;32m      <a href='vscode-notebook-cell:/home/francesco/Desktop/SEMESTER_PROJECT_2/gnn_time/latent_net/latent.ipynb#X26sZmlsZQ%3D%3D?line=2'>3</a>\u001b[0m                               train_snapshots, test_snapshots, HyperParams)\n",
      "File \u001b[0;32m~/Desktop/SEMESTER_PROJECT_2/gnn_time/latent_net/./../latent_net/train.py:39\u001b[0m, in \u001b[0;36mtrain_dyn_rec_nets\u001b[0;34m(dyn_model, rec_model, optimizer, scheduler, device, params_train, params_test, times, train_loader, test_loader, position_dataset, train_snapshots, test_snapshots, HyperParams)\u001b[0m\n\u001b[1;32m     31\u001b[0m position_dataset\u001b[39m.\u001b[39mto(device)\n\u001b[1;32m     34\u001b[0m \u001b[39mfor\u001b[39;00m epoch \u001b[39min\u001b[39;00m loop:\n\u001b[1;32m     35\u001b[0m     \u001b[39m# Shuffle 15 indices of the positions and create a position loader\u001b[39;00m\n\u001b[1;32m     36\u001b[0m \n\u001b[1;32m     37\u001b[0m \n\u001b[1;32m     38\u001b[0m     \u001b[39m#pos_batch_sampler, position_loader = shuffle_dataset.shuffle_position_dataset(position_dataset, HyperParams, seed=epoch)\u001b[39;00m\n\u001b[0;32m---> 39\u001b[0m     train_loss \u001b[39m=\u001b[39m train_one_epoch(dyn_model, rec_model, optimizer,  device, params_train,\\\n\u001b[1;32m     40\u001b[0m                                   times, data_train, position_dataset, train_snapshots, HyperParams)\n\u001b[1;32m     42\u001b[0m     train_history[\u001b[39m\"\u001b[39m\u001b[39mloss\u001b[39m\u001b[39m\"\u001b[39m]\u001b[39m.\u001b[39mappend(train_loss)          \n\u001b[1;32m     43\u001b[0m     test_loss \u001b[39m=\u001b[39m evaluate_model(dyn_model, rec_model, device, params_test, \\\n\u001b[1;32m     44\u001b[0m                                times, data_test, position_dataset, test_snapshots, HyperParams)\n",
      "File \u001b[0;32m~/Desktop/SEMESTER_PROJECT_2/gnn_time/latent_net/./../latent_net/train.py:117\u001b[0m, in \u001b[0;36mtrain_one_epoch\u001b[0;34m(dyn_model, rec_model, optimizer, device, params_train, times, data, position_dataset, train_snapshots, HyperParams)\u001b[0m\n\u001b[1;32m    114\u001b[0m             loss_rec \u001b[39m=\u001b[39m F\u001b[39m.\u001b[39mmse_loss(velocity_pred, velocity_target, reduction\u001b[39m=\u001b[39m\u001b[39m\"\u001b[39m\u001b[39mmean\u001b[39m\u001b[39m\"\u001b[39m)\n\u001b[1;32m    115\u001b[0m             train_loss \u001b[39m+\u001b[39m\u001b[39m=\u001b[39m loss_rec\u001b[39m.\u001b[39mitem()\n\u001b[0;32m--> 117\u001b[0m     loss_rec\u001b[39m.\u001b[39mbackward()\n\u001b[1;32m    118\u001b[0m     optimizer\u001b[39m.\u001b[39mstep()\n\u001b[1;32m    120\u001b[0m \u001b[39mreturn\u001b[39;00m train_loss \u001b[39m/\u001b[39m (\u001b[39mlen\u001b[39m(params_train)\u001b[39m*\u001b[39m\u001b[39mlen\u001b[39m(times)\u001b[39m*\u001b[39mHyperParams\u001b[39m.\u001b[39mnum_pos_batches)\n",
      "File \u001b[0;32m~/anaconda3/envs/fenicsproject/lib/python3.11/site-packages/torch/_tensor.py:487\u001b[0m, in \u001b[0;36mTensor.backward\u001b[0;34m(self, gradient, retain_graph, create_graph, inputs)\u001b[0m\n\u001b[1;32m    477\u001b[0m \u001b[39mif\u001b[39;00m has_torch_function_unary(\u001b[39mself\u001b[39m):\n\u001b[1;32m    478\u001b[0m     \u001b[39mreturn\u001b[39;00m handle_torch_function(\n\u001b[1;32m    479\u001b[0m         Tensor\u001b[39m.\u001b[39mbackward,\n\u001b[1;32m    480\u001b[0m         (\u001b[39mself\u001b[39m,),\n\u001b[0;32m   (...)\u001b[0m\n\u001b[1;32m    485\u001b[0m         inputs\u001b[39m=\u001b[39minputs,\n\u001b[1;32m    486\u001b[0m     )\n\u001b[0;32m--> 487\u001b[0m torch\u001b[39m.\u001b[39mautograd\u001b[39m.\u001b[39mbackward(\n\u001b[1;32m    488\u001b[0m     \u001b[39mself\u001b[39m, gradient, retain_graph, create_graph, inputs\u001b[39m=\u001b[39minputs\n\u001b[1;32m    489\u001b[0m )\n",
      "File \u001b[0;32m~/anaconda3/envs/fenicsproject/lib/python3.11/site-packages/torch/autograd/__init__.py:200\u001b[0m, in \u001b[0;36mbackward\u001b[0;34m(tensors, grad_tensors, retain_graph, create_graph, grad_variables, inputs)\u001b[0m\n\u001b[1;32m    195\u001b[0m     retain_graph \u001b[39m=\u001b[39m create_graph\n\u001b[1;32m    197\u001b[0m \u001b[39m# The reason we repeat same the comment below is that\u001b[39;00m\n\u001b[1;32m    198\u001b[0m \u001b[39m# some Python versions print out the first line of a multi-line function\u001b[39;00m\n\u001b[1;32m    199\u001b[0m \u001b[39m# calls in the traceback and some print out the last line\u001b[39;00m\n\u001b[0;32m--> 200\u001b[0m Variable\u001b[39m.\u001b[39m_execution_engine\u001b[39m.\u001b[39mrun_backward(  \u001b[39m# Calls into the C++ engine to run the backward pass\u001b[39;00m\n\u001b[1;32m    201\u001b[0m     tensors, grad_tensors_, retain_graph, create_graph, inputs,\n\u001b[1;32m    202\u001b[0m     allow_unreachable\u001b[39m=\u001b[39m\u001b[39mTrue\u001b[39;00m, accumulate_grad\u001b[39m=\u001b[39m\u001b[39mTrue\u001b[39;00m)\n",
      "\u001b[0;31mRuntimeError\u001b[0m: Trying to backward through the graph a second time (or directly access saved tensors after they have already been freed). Saved intermediate values of the graph are freed when you call .backward() or autograd.grad(). Specify retain_graph=True if you need to backward through the graph a second time or if you need to access saved tensors after calling backward."
     ]
    }
   ],
   "source": [
    "train_history, test_history = train.train_dyn_rec_nets(dyn_model, rec_model, optimizer, scheduler,\\\n",
    "                          device, params_train, params_test, time_tensor, train_loader, test_loader, position_dataset,\\\n",
    "                              train_snapshots, test_snapshots, HyperParams)"
   ]
  },
  {
   "cell_type": "code",
   "execution_count": null,
   "id": "73d8bf8f",
   "metadata": {},
   "outputs": [],
   "source": []
  },
  {
   "cell_type": "code",
   "execution_count": 15,
   "id": "2c30cf63-1a12-4c56-ac5a-3b051fc3d432",
   "metadata": {},
   "outputs": [
    {
     "data": {
      "image/png": "[encoded data removed]",
      "text/plain": [
       "<Figure size 640x480 with 1 Axes>"
      ]
     },
     "metadata": {},
     "output_type": "display_data"
    }
   ],
   "source": [
    "from matplotlib import pyplot as plt\n",
    "\n",
    "# semilogy\n",
    "\n",
    "plt.semilogy(train_history['loss'], label='train loss')\n",
    "plt.semilogy(test_history['loss'], label='test loss')\n",
    "plt.legend()\n",
    "\n",
    "plt.grid()\n",
    "#finer grid\n",
    "\n",
    "\n",
    "plt.xlabel('epoch')\n",
    "plt.ylabel('loss')\n",
    "plt.show()\n"
   ]
  }
 ],
 "metadata": {
  "kernelspec": {
   "display_name": "Python 3 (ipykernel)",
   "language": "python",
   "name": "python3"
  },
  "language_info": {
   "codemirror_mode": {
    "name": "ipython",
    "version": 3
   },
   "file_extension": ".py",
   "mimetype": "text/x-python",
   "name": "python",
   "nbconvert_exporter": "python",
   "pygments_lexer": "ipython3",
   "version": "3.11.5"
  }
 },
 "nbformat": 4,
 "nbformat_minor": 5
}
