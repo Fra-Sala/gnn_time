{
 "cells": [
  {
   "cell_type": "markdown",
   "id": "b1d5fbb1-7e55-40c8-80fb-a6f6b0b22148",
   "metadata": {},
   "source": [
    "# Latent Net implementation"
   ]
  },
  {
   "cell_type": "code",
   "execution_count": 1,
   "id": "7f51803d-01e8-4ea6-9c19-6bffc1be9e1a",
   "metadata": {},
   "outputs": [],
   "source": [
    "# Install PyTorch\n",
    "try:\n",
    "  import torch\n",
    "except ImportError:\n",
    "  !pip3 install torch torchvision torchaudio --index-url https://download.pytorch.org/whl/cu118\n",
    "  import torch\n",
    "\n",
    "torch.set_default_dtype(torch.float32)"
   ]
  },
  {
   "cell_type": "code",
   "execution_count": 2,
   "id": "c1f52d59-55e1-4540-803c-59c4ca33aebe",
   "metadata": {},
   "outputs": [],
   "source": [
    "# Install PyG\n",
    "# try:\n",
    "#   import torch_geometric\n",
    "# except ImportError:\n",
    "#   !pip3 install torch_geometric\n",
    "#   import torch_geometric"
   ]
  },
  {
   "cell_type": "code",
   "execution_count": 3,
   "id": "7a9237fc-915f-4e9c-a12b-5d2961dc95ff",
   "metadata": {},
   "outputs": [],
   "source": [
    "import numpy as np"
   ]
  },
  {
   "cell_type": "code",
   "execution_count": 4,
   "id": "15914e3a-616a-4041-9e0d-89f682d819ab",
   "metadata": {},
   "outputs": [],
   "source": [
    "# Import some utils from gca-rom\n",
    "import sys\n",
    "if 'google.colab' in str(get_ipython()):\n",
    "    !git clone https://github.com/Fra-Sala/gnn_time.git\n",
    "    sys.path.append('gnn_time')\n",
    "else:\n",
    "    sys.path.append('./..')\n",
    "    \n",
    "from gca_rom import pde, scaling\n",
    "import dynamics_network, initialization, loader, preprocessing_scale, train"
   ]
  },
  {
   "cell_type": "code",
   "execution_count": 5,
   "id": "8a8843c2-1c90-47eb-a8a3-f986a67550ea",
   "metadata": {},
   "outputs": [
    {
     "name": "stdout",
     "output_type": "stream",
     "text": [
      "\n",
      "Problem:  lid_cavity\n",
      "Variable:  U\n"
     ]
    }
   ],
   "source": [
    "variable = 'U'\n",
    "problem_name = 'lid_cavity'\n",
    "print(\"\\nProblem: \", problem_name)\n",
    "print(\"Variable: \", variable)\n"
   ]
  },
  {
   "cell_type": "code",
   "execution_count": 6,
   "id": "47a4bcef-ce44-41bc-945d-74391b13fa80",
   "metadata": {},
   "outputs": [],
   "source": [
    "# Parameters to be set\n",
    "\n",
    "#preset = [3, 2, 2, 2, 1, 3, 3, 1]\n",
    "train_rate = 70\n",
    "dim_latent = 10\n",
    "epochs = 5000\n",
    "dt = 1e-2 # For forward euler\n",
    "scaling_type = 2 # scale only against the features\n",
    "scaler_number = 3 # type of scaling function. 3 -> standard\n",
    "\n",
    "argv = [problem_name, variable, scaling_type, scaler_number, train_rate, 1e-3, 1e-3, dim_latent, dt, epochs]\n",
    "HyperParams = dynamics_network.HyperParams(argv)"
   ]
  },
  {
   "cell_type": "markdown",
   "id": "1dc8c7f9-d824-47ec-959b-502bd191c77e",
   "metadata": {},
   "source": [
    "# Initialization"
   ]
  },
  {
   "cell_type": "code",
   "execution_count": 7,
   "id": "158ef096-993b-413c-9f3f-c5f876447ea8",
   "metadata": {},
   "outputs": [
    {
     "name": "stdout",
     "output_type": "stream",
     "text": [
      "Device used:  cpu\n"
     ]
    }
   ],
   "source": [
    "device = initialization.set_device()\n",
    "initialization.set_reproducibility(HyperParams)"
   ]
  },
  {
   "cell_type": "markdown",
   "id": "06e1aaa6-f32a-427f-8852-9ccb9bd5d92c",
   "metadata": {},
   "source": [
    "# Load dataset"
   ]
  },
  {
   "cell_type": "code",
   "execution_count": 8,
   "id": "6a74c604-1878-4d98-b0df-dc9405962749",
   "metadata": {},
   "outputs": [],
   "source": [
    "if 'google.colab' in str(get_ipython()):\n",
    "    dataset_dir = '/content/gnn_time/dataset/'+problem_name+'_unstructured.mat'\n",
    "else:\n",
    "    dataset_dir = '../dataset/'+problem_name+'_unstructured.mat'\n",
    "\n",
    "# Import the data from the mat file \n",
    "dataset = loader.LoadDataset(dataset_dir, variable)\n",
    "\n",
    "# Delete the initial condition of each case\n",
    "dataset.U = np.delete(dataset.U, np.s_[::10], 1)"
   ]
  },
  {
   "cell_type": "code",
   "execution_count": 9,
   "id": "1369f679-d0d4-4809-8077-6b2b8ddb7c87",
   "metadata": {},
   "outputs": [
    {
     "name": "stdout",
     "output_type": "stream",
     "text": [
      "Number of simulations: 180\n",
      "Number of instants of time: 9\n"
     ]
    }
   ],
   "source": [
    "# New approach for the parameters. Just store u(t) for all snapshots and the time t. if necessary, interpolate u(t) linearly\n",
    "\n",
    "if 'google.colab' in str(get_ipython()):\n",
    "    u_t_latent = np.load('/content/gnn_time/lid_driven_cavity_fenics/u_t_latent.npy')\n",
    "else:\n",
    "    u_t_latent = np.load('../lid_driven_cavity_fenics/u_t_latent.npy')\n",
    "\n",
    "time = np.linspace(0.2, 1.8, 9)\n",
    "\n",
    "# Get rid of the initial condition evaluation (0.0)\n",
    "u_t_latent = np.delete(u_t_latent, np.s_[::10], 0)   \n",
    "u_t_tensor = torch.from_numpy(u_t_latent)\n",
    "time_tensor = torch.from_numpy(time)\n",
    "print(\"Number of simulations:\", len(u_t_latent))\n",
    "print(\"Number of instants of time:\", len(time))\n",
    "\n"
   ]
  },
  {
   "cell_type": "code",
   "execution_count": 10,
   "id": "cf1f3420-c2b5-470f-ab4f-4f0a0ed2fd51",
   "metadata": {},
   "outputs": [
    {
     "name": "stdout",
     "output_type": "stream",
     "text": [
      "Number of nodes processed:  15681\n",
      "Number of shapshots processed:  180\n"
     ]
    }
   ],
   "source": [
    "train_loader, test_loader, scaler_all,\\\n",
    "scaler_test, VAR_all, VAR_test, train_snapshots,\\\n",
    "test_snapshots, position_loader= preprocessing_scale.process_and_scale_dataset(dataset, HyperParams)"
   ]
  },
  {
   "cell_type": "code",
   "execution_count": 11,
   "id": "31deb30e",
   "metadata": {},
   "outputs": [],
   "source": [
    "######### this is how you iterate over the positions\n",
    "# for batch in position_loader:\n",
    "#     x_batch, y_batch = batch\n",
    "#     print(x_batch)\n"
   ]
  },
  {
   "cell_type": "markdown",
   "id": "29db1a91-f21f-4868-9030-3c2a9d02a60c",
   "metadata": {},
   "source": [
    "# Define the architecture"
   ]
  },
  {
   "cell_type": "code",
   "execution_count": 12,
   "id": "72961189-4e3f-4be3-ba1d-a52af6ed3f07",
   "metadata": {},
   "outputs": [],
   "source": [
    "# The dynamics net takes u(t) as input and s(t)\n",
    "dyn_input_size = 1 + HyperParams.dim_latent\n",
    "dyn_hidden_size = 9\n",
    "dim = 2 # we are in 2D\n",
    "\n",
    "rec_input_size = dim*HyperParams.batch_size_pos + HyperParams.dim_latent\n",
    "rec_hidden_size = dyn_hidden_size\n",
    "rec_output_size = HyperParams.batch_size_pos\n",
    "\n",
    "\n",
    "dyn_model = dynamics_network.DynNet(dyn_input_size, dyn_hidden_size, HyperParams.dim_latent)\n",
    "rec_model = dynamics_network.RecNet(rec_input_size, rec_hidden_size, rec_output_size)\n",
    "dyn_model = dyn_model.to(device)\n",
    "rec_model = rec_model.to(device)\n",
    "\n",
    "# Define optimizers for both models\n",
    "dyn_optimizer = torch.optim.Adam(dyn_model.parameters(), lr=HyperParams.learning_rate,  weight_decay=HyperParams.weight_decay)\n",
    "rec_optimizer = torch.optim.Adam(rec_model.parameters(), lr=HyperParams.learning_rate,  weight_decay=HyperParams.weight_decay)\n",
    "dyn_scheduler = torch.optim.lr_scheduler.MultiStepLR(dyn_optimizer, milestones=HyperParams.miles, gamma=HyperParams.gamma)\n",
    "rec_scheduler = torch.optim.lr_scheduler.MultiStepLR(rec_optimizer, milestones=HyperParams.miles, gamma=HyperParams.gamma)"
   ]
  },
  {
   "cell_type": "markdown",
   "id": "c5f49619-2e97-442f-97cb-79f8c40ff42d",
   "metadata": {},
   "source": [
    "# Train the network"
   ]
  },
  {
   "cell_type": "code",
   "execution_count": 13,
   "id": "32d5b31b-8357-4a3f-bb7b-cb8aa4b314b9",
   "metadata": {},
   "outputs": [
    {
     "name": "stderr",
     "output_type": "stream",
     "text": [
      "  0%|          | 0/5000 [00:00<?, ?it/s]\n"
     ]
    },
    {
     "ename": "TypeError",
     "evalue": "cat() received an invalid combination of arguments - got (tuple, dtype=torch.dtype, dim=int), but expected one of:\n * (tuple of Tensors tensors, int dim, *, Tensor out)\n * (tuple of Tensors tensors, name dim, *, Tensor out)\n",
     "output_type": "error",
     "traceback": [
      "\u001b[0;31m---------------------------------------------------------------------------\u001b[0m",
      "\u001b[0;31mTypeError\u001b[0m                                 Traceback (most recent call last)",
      "\u001b[1;32m/home/francesco/Desktop/SEMESTER_PROJECT_2/gnn_time/latent_net/latent.ipynb Cell 18\u001b[0m line \u001b[0;36m3\n\u001b[1;32m      <a href='vscode-notebook-cell:/home/francesco/Desktop/SEMESTER_PROJECT_2/gnn_time/latent_net/latent.ipynb#X23sZmlsZQ%3D%3D?line=0'>1</a>\u001b[0m \u001b[39m# Need to properly define the training function\u001b[39;00m\n\u001b[0;32m----> <a href='vscode-notebook-cell:/home/francesco/Desktop/SEMESTER_PROJECT_2/gnn_time/latent_net/latent.ipynb#X23sZmlsZQ%3D%3D?line=2'>3</a>\u001b[0m train\u001b[39m.\u001b[39mtrain_dyn_rec_nets(dyn_model, rec_model, dyn_optimizer, rec_optimizer, dyn_scheduler, rec_scheduler,\\\n\u001b[1;32m      <a href='vscode-notebook-cell:/home/francesco/Desktop/SEMESTER_PROJECT_2/gnn_time/latent_net/latent.ipynb#X23sZmlsZQ%3D%3D?line=3'>4</a>\u001b[0m                           device, u_t_tensor ,time_tensor, train_loader, test_loader, position_loader, train_snapshots, test_snapshots, HyperParams)\n",
      "File \u001b[0;32m~/Desktop/SEMESTER_PROJECT_2/gnn_time/latent_net/train.py:32\u001b[0m, in \u001b[0;36mtrain_dyn_rec_nets\u001b[0;34m(dyn_model, rec_model, dyn_optimizer, rec_optimizer, dyn_scheduler, rec_scheduler, device, u_t, times, train_loader, test_loader, position_loader, train_snapshots, test_snapshots, HyperParams)\u001b[0m\n\u001b[1;32m     29\u001b[0m loop \u001b[39m=\u001b[39m tqdm(\u001b[39mrange\u001b[39m(HyperParams\u001b[39m.\u001b[39mmax_epochs))\n\u001b[1;32m     31\u001b[0m \u001b[39mfor\u001b[39;00m epoch \u001b[39min\u001b[39;00m loop:\n\u001b[0;32m---> 32\u001b[0m     train_loss \u001b[39m=\u001b[39m train_one_epoch(dyn_model, rec_model, dyn_optimizer, rec_optimizer, dyn_scheduler, rec_scheduler, device, u_t_train, times, train_loader, position_loader, train_snapshots, HyperParams)\n\u001b[1;32m     33\u001b[0m     train_history[\u001b[39m\"\u001b[39m\u001b[39mloss\u001b[39m\u001b[39m\"\u001b[39m]\u001b[39m.\u001b[39mappend(train_loss)\n\u001b[1;32m     35\u001b[0m     \u001b[39m# Evaluate the model on the test set and store the results in test_history\u001b[39;00m\n",
      "File \u001b[0;32m~/Desktop/SEMESTER_PROJECT_2/gnn_time/latent_net/train.py:68\u001b[0m, in \u001b[0;36mtrain_one_epoch\u001b[0;34m(dyn_model, rec_model, dyn_optimizer, rec_optimizer, dyn_scheduler, rec_scheduler, device, u_t_train, times, train_loader, position_loader, train_snapshots, HyperParams)\u001b[0m\n\u001b[1;32m     66\u001b[0m \u001b[39mfor\u001b[39;00m j, pos \u001b[39min\u001b[39;00m \u001b[39menumerate\u001b[39m(position_loader):\n\u001b[1;32m     67\u001b[0m     x_pos, y_pos \u001b[39m=\u001b[39m pos\n\u001b[0;32m---> 68\u001b[0m     rec_input \u001b[39m=\u001b[39m torch\u001b[39m.\u001b[39mcat((stn_plus_one, x_pos, y_pos), dim\u001b[39m=\u001b[39m\u001b[39m0\u001b[39m, dtype \u001b[39m=\u001b[39m torch\u001b[39m.\u001b[39mfloat32)\n\u001b[1;32m     69\u001b[0m     velocity_pred \u001b[39m=\u001b[39m rec_model(rec_input)\n\u001b[1;32m     70\u001b[0m     velocity_target \u001b[39m=\u001b[39m data[:, \u001b[39mlen\u001b[39m(x_pos) \u001b[39m*\u001b[39m j : \u001b[39mlen\u001b[39m(x_pos) \u001b[39m*\u001b[39m (j \u001b[39m+\u001b[39m \u001b[39m1\u001b[39m), \u001b[39m0\u001b[39m]\n",
      "\u001b[0;31mTypeError\u001b[0m: cat() received an invalid combination of arguments - got (tuple, dtype=torch.dtype, dim=int), but expected one of:\n * (tuple of Tensors tensors, int dim, *, Tensor out)\n * (tuple of Tensors tensors, name dim, *, Tensor out)\n"
     ]
    }
   ],
   "source": [
    "# Need to properly define the training function\n",
    "\n",
    "train.train_dyn_rec_nets(dyn_model, rec_model, dyn_optimizer, rec_optimizer, dyn_scheduler, rec_scheduler,\\\n",
    "                          device, u_t_tensor ,time_tensor, train_loader, test_loader, position_loader, train_snapshots, test_snapshots, HyperParams)"
   ]
  },
  {
   "cell_type": "code",
   "execution_count": null,
   "id": "2c30cf63-1a12-4c56-ac5a-3b051fc3d432",
   "metadata": {},
   "outputs": [],
   "source": [
    "# Define your loss function (e.g., Mean Squared Error)\n",
    "loss_fn = torch.nn.MSELoss()\n",
    "\n",
    "# Training loop\n",
    "for epoch in range(epochs):\n",
    "    dyn_model.train()\n",
    "    rec_model.train()\n",
    "    total_loss = 0.0\n",
    "    \n",
    "    for i in range(len(params)):\n",
    "        # Load data for the current parameter set\n",
    "        u_t = parameters[i]  # \n",
    "        s_t = torch.zeros(HyperParams.dim_latent)  # Initialize s(t) with zeros\n",
    "\n",
    "        for t in range(u_t.size(0)):\n",
    "            # Forward pass through DynNet\n",
    "            dyn_input = torch.cat((u_t[t], s_t), dim=0)\n",
    "            s_t_derivative = dyn_model(dyn_input)\n",
    "\n",
    "            # Compute s(tn+1) using forward Euler method\n",
    "            s_t_plus_one = s_t + dt * s_t_derivative\n",
    "\n",
    "            # Forward pass through RecNet\n",
    "            rec_input = torch.cat((s_t_plus_one, position_x, position_y), dim=0)\n",
    "            y_pred = rec_model(rec_input)\n",
    "\n",
    "            # Calculate the loss\n",
    "            target_velocity = dataset.U[i][t]  # Assuming V is the target velocity\n",
    "            loss = loss_fn(y_pred, target_velocity)\n",
    "            total_loss += loss.item()\n",
    "\n",
    "            # Backpropagation and parameter updates for both models\n",
    "            dyn_optimizer.zero_grad()\n",
    "            rec_optimizer.zero_grad()\n",
    "            loss.backward()\n",
    "            dyn_optimizer.step()\n",
    "            rec_optimizer.step()\n",
    "\n",
    "            # Update s(t) for the next time step\n",
    "            s_t = s_t_plus_one\n",
    "\n",
    "    # Print the average loss for this epoch\n",
    "    average_loss = total_loss / len(params)\n",
    "    print(f\"Epoch [{epoch+1}/{epochs}] - Loss: {average_loss:.4f}\")\n",
    "\n",
    "    # Adjust the learning rates\n",
    "    dyn_scheduler.step()\n",
    "    rec_scheduler.step()\n",
    "\n",
    "torch.save(dyn_model.state_dict(), 'dyn_model.pth')\n",
    "torch.save(rec_model.state_dict(), 'rec_model.pth')\n",
    "\n"
   ]
  }
 ],
 "metadata": {
  "kernelspec": {
   "display_name": "Python 3 (ipykernel)",
   "language": "python",
   "name": "python3"
  },
  "language_info": {
   "codemirror_mode": {
    "name": "ipython",
    "version": 3
   },
   "file_extension": ".py",
   "mimetype": "text/x-python",
   "name": "python",
   "nbconvert_exporter": "python",
   "pygments_lexer": "ipython3",
   "version": "3.11.5"
  }
 },
 "nbformat": 4,
 "nbformat_minor": 5
}
