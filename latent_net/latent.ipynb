{
 "cells": [
  {
   "cell_type": "markdown",
   "id": "b1d5fbb1-7e55-40c8-80fb-a6f6b0b22148",
   "metadata": {},
   "source": [
    "# Latent Net implementation"
   ]
  },
  {
   "cell_type": "markdown",
   "id": "0bf3594d",
   "metadata": {},
   "source": [
    ">> Notes to the new implementation - debugging\n",
    "\n",
    "\n",
    ">> - the implementation of the Fourier features is wrong. get back to that later\n",
    ">> - make sure that the train function loops over the parameters that are part  of the train set (i.e. the alphas that define the training sims)\n",
    ">> - the append operation\n",
    ">> - plot the latent state\n",
    ">> - remove the train_snaphots and test_snapshots variables\n",
    ">> - for each parameter, I train always on the same positions. to be changed?"
   ]
  },
  {
   "cell_type": "code",
   "execution_count": 1,
   "id": "7f51803d-01e8-4ea6-9c19-6bffc1be9e1a",
   "metadata": {},
   "outputs": [],
   "source": [
    "# Install PyTorch\n",
    "try:\n",
    "  import torch\n",
    "except ImportError:\n",
    "  !pip3 install torch torchvision torchaudio --index-url https://download.pytorch.org/whl/cu118\n",
    "  import torch\n",
    "\n",
    "#torch.set_default_dtype(torch.float32)"
   ]
  },
  {
   "cell_type": "code",
   "execution_count": 2,
   "id": "c1f52d59-55e1-4540-803c-59c4ca33aebe",
   "metadata": {},
   "outputs": [],
   "source": [
    "# Install PyG\n",
    "try:\n",
    "  import torch_geometric\n",
    "except ImportError:\n",
    "  !pip3 install torch_geometric\n",
    "  import torch_geometric"
   ]
  },
  {
   "cell_type": "code",
   "execution_count": 3,
   "id": "7a9237fc-915f-4e9c-a12b-5d2961dc95ff",
   "metadata": {},
   "outputs": [],
   "source": [
    "import numpy as np"
   ]
  },
  {
   "cell_type": "code",
   "execution_count": 4,
   "id": "15914e3a-616a-4041-9e0d-89f682d819ab",
   "metadata": {},
   "outputs": [],
   "source": [
    "# Import some utils from gca-rom\n",
    "import sys\n",
    "if 'google.colab' in str(get_ipython()):\n",
    "    !git clone https://github.com/Fra-Sala/gnn_time.git\n",
    "    sys.path.append('gnn_time')\n",
    "else:\n",
    "    sys.path.append('./..')\n",
    "    \n",
    "from latent_net import dynamics_network, initialization, loader, preprocessing_scale, train"
   ]
  },
  {
   "cell_type": "code",
   "execution_count": 5,
   "id": "8a8843c2-1c90-47eb-a8a3-f986a67550ea",
   "metadata": {},
   "outputs": [
    {
     "name": "stdout",
     "output_type": "stream",
     "text": [
      "\n",
      "Problem:  lid_cavity\n",
      "Variable:  U\n"
     ]
    }
   ],
   "source": [
    "variable = 'U'\n",
    "problem_name = 'lid_cavity'\n",
    "print(\"\\nProblem: \", problem_name)\n",
    "print(\"Variable: \", variable)\n"
   ]
  },
  {
   "cell_type": "markdown",
   "id": "ed260645",
   "metadata": {},
   "source": [
    "## Set training parameters"
   ]
  },
  {
   "cell_type": "code",
   "execution_count": 6,
   "id": "47a4bcef-ce44-41bc-945d-74391b13fa80",
   "metadata": {},
   "outputs": [],
   "source": [
    "train_rate = 50 # percentage of data used for training\n",
    "dim_latent = 10\n",
    "epochs = 1000\n",
    "step_integration = 1e-1   # time step forward euler\n",
    "pos_per_batch = 20\n",
    "num_batches = 20\n",
    "# scaling_type = 2 \n",
    "# scaler_number = 3\n",
    "final_time_simulation = 2.0 # do not change even if you consider less snapshots (shorter simulations)\n",
    "argv = [problem_name, variable, train_rate, dim_latent, step_integration, epochs, pos_per_batch, num_batches, final_time_simulation]\n",
    "HyperParams = dynamics_network.HyperParams(argv)"
   ]
  },
  {
   "cell_type": "markdown",
   "id": "1dc8c7f9-d824-47ec-959b-502bd191c77e",
   "metadata": {},
   "source": [
    "# Initialization"
   ]
  },
  {
   "cell_type": "code",
   "execution_count": 7,
   "id": "158ef096-993b-413c-9f3f-c5f876447ea8",
   "metadata": {},
   "outputs": [
    {
     "name": "stdout",
     "output_type": "stream",
     "text": [
      "Device used:  cpu\n"
     ]
    }
   ],
   "source": [
    "device = initialization.set_device()\n",
    "initialization.set_reproducibility(HyperParams)"
   ]
  },
  {
   "cell_type": "markdown",
   "id": "06e1aaa6-f32a-427f-8852-9ccb9bd5d92c",
   "metadata": {},
   "source": [
    "# Load dataset"
   ]
  },
  {
   "cell_type": "code",
   "execution_count": 8,
   "id": "6a74c604-1878-4d98-b0df-dc9405962749",
   "metadata": {},
   "outputs": [],
   "source": [
    "if 'google.colab' in str(get_ipython()):\n",
    "    dataset_dir = '/content/gnn_time/dataset/'+problem_name+'_unstructured.mat'\n",
    "else:\n",
    "    dataset_dir = '../dataset/'+problem_name+'_unstructured.mat'\n",
    "\n",
    "# Import the data from the mat file \n",
    "dataset = loader.LoadDataset(dataset_dir, variable)\n",
    "\n",
    "# Delete the initial condition of each case\n",
    "dataset.U = np.delete(dataset.U, np.s_[::10], 1)\n",
    "\n",
    "# Take first 3 snaps for two simulations\n",
    "# cols_to_delete = list(range(3, 9)) + list(range(12, dataset.U.shape[1]))\n",
    "# dataset.U = np.delete(dataset.U, cols_to_delete, 1)\n",
    "\n",
    "\n",
    "### DEBUG: take only the first two snapshots\n",
    "\n",
    "#dataset.U = np.delete(dataset.U,np.s_[1:],1 )"
   ]
  },
  {
   "cell_type": "code",
   "execution_count": 9,
   "id": "6ab929c9",
   "metadata": {},
   "outputs": [
    {
     "data": {
      "text/plain": [
       "tensor([[3.7960e-02, 6.1421e-02, 6.1421e-02,  ..., 1.2535e+00, 1.2535e+00,\n",
       "         7.7471e-01],\n",
       "        [0.0000e+00, 0.0000e+00, 0.0000e+00,  ..., 0.0000e+00, 0.0000e+00,\n",
       "         0.0000e+00],\n",
       "        [0.0000e+00, 0.0000e+00, 0.0000e+00,  ..., 0.0000e+00, 0.0000e+00,\n",
       "         0.0000e+00],\n",
       "        ...,\n",
       "        [9.2720e-04, 1.9940e-03, 2.6758e-03,  ..., 1.8098e-02, 3.5898e-02,\n",
       "         3.8393e-02],\n",
       "        [9.4044e-04, 2.0228e-03, 2.7146e-03,  ..., 1.8509e-02, 3.6612e-02,\n",
       "         3.9172e-02],\n",
       "        [4.1225e-03, 7.8296e-03, 9.0348e-03,  ..., 2.1059e-01, 2.1317e-01,\n",
       "         1.6319e-01]])"
      ]
     },
     "execution_count": 9,
     "metadata": {},
     "output_type": "execute_result"
    }
   ],
   "source": [
    "dataset.U"
   ]
  },
  {
   "cell_type": "code",
   "execution_count": 10,
   "id": "1369f679-d0d4-4809-8077-6b2b8ddb7c87",
   "metadata": {},
   "outputs": [
    {
     "name": "stdout",
     "output_type": "stream",
     "text": [
      "Number of simulations (series of snaps): 20\n",
      "Number of instants of time: 9\n"
     ]
    }
   ],
   "source": [
    "# if 'google.colab' in str(get_ipython()):\n",
    "#     u_t_latent = np.load('/content/gnn_time/lid_driven_cavity_fenics/u_t_latent.npy')\n",
    "# else:\n",
    "#     u_t_latent = np.load('../lid_driven_cavity_fenics/u_t_latent.npy')\n",
    "\n",
    "# Import the single Fourier mode\n",
    "if 'google.colab' in str(get_ipython()):\n",
    "    params = np.load('/content/gnn_time/lid_driven_cavity_fenics/alpha1.npy')\n",
    "else:\n",
    "    params = np.load('../lid_driven_cavity_fenics/alpha1.npy')\n",
    "\n",
    "############ TAKE ONLY THE FIRST two PARAMETER (FOURIER COEFF) #############\n",
    "\n",
    "time = np.linspace(0.0, 1.8, 10)\n",
    "\n",
    "# Get rid of the initial condition evaluation (0.0)\n",
    "# u_t_latent = np.delete(u_t_latent, np.s_[::10], 0)   \n",
    "# u_t_tensor = torch.from_numpy(u_t_latent)\n",
    "time_tensor = torch.from_numpy(time)\n",
    "print(\"Number of simulations (series of snaps):\", len(params))\n",
    "print(\"Number of instants of time:\", len(time)-1)\n",
    "\n",
    "#alpha1_vec = alpha1_vec.reshape(-1,1)\n"
   ]
  },
  {
   "cell_type": "code",
   "execution_count": 11,
   "id": "cf1f3420-c2b5-470f-ab4f-4f0a0ed2fd51",
   "metadata": {},
   "outputs": [
    {
     "name": "stdout",
     "output_type": "stream",
     "text": [
      "Number of nodes processed:  15681\n",
      "Number of simulations processed:  20\n"
     ]
    }
   ],
   "source": [
    "train_loader, test_loader, scaler_all,\\\n",
    "scaler_test, VAR_all, VAR_test, train_snapshots,\\\n",
    "test_snapshots, position_dataset, params_train, params_test = preprocessing_scale.process_and_scale_dataset(dataset, HyperParams, params)"
   ]
  },
  {
   "cell_type": "code",
   "execution_count": 12,
   "id": "31deb30e",
   "metadata": {},
   "outputs": [
    {
     "data": {
      "text/plain": [
       "tensor([[ 1.0000, -1.0000, -1.0000,  ..., -0.9500, -0.9492, -0.7889],\n",
       "        [ 1.0000, -1.0000, -1.0000,  ..., -0.9306, -0.9293, -0.7689],\n",
       "        [ 1.0000, -1.0000, -1.0000,  ..., -0.8994, -0.8973, -0.7448],\n",
       "        ...,\n",
       "        [ 1.0000, -1.0000, -1.0000,  ..., -0.9711, -0.9705, -0.6640],\n",
       "        [ 1.0000, -1.0000, -1.0000,  ..., -0.9427, -0.9416, -0.6599],\n",
       "        [ 1.0000, -1.0000, -1.0000,  ..., -0.9009, -0.8989, -0.5787]])"
      ]
     },
     "execution_count": 12,
     "metadata": {},
     "output_type": "execute_result"
    }
   ],
   "source": [
    "data_test_iterator = iter(test_loader)\n",
    "data_test = next(data_test_iterator).to(device)\n",
    "data_test[:, :, 0]"
   ]
  },
  {
   "cell_type": "markdown",
   "id": "29db1a91-f21f-4868-9030-3c2a9d02a60c",
   "metadata": {},
   "source": [
    "# Define the architecture"
   ]
  },
  {
   "cell_type": "code",
   "execution_count": 13,
   "id": "72961189-4e3f-4be3-ba1d-a52af6ed3f07",
   "metadata": {},
   "outputs": [],
   "source": [
    "# The dynamics net takes u(t) as input and s(t)\n",
    "dyn_input_size = 1 + HyperParams.dim_latent\n",
    "dyn_hidden_size = 9\n",
    "dim = 2 # we are in 2D\n",
    "\n",
    "#rec_input_size = dim*HyperParams.rff_encoded_mult*HyperParams.batch_pos_size + HyperParams.dim_latent\n",
    "rec_input_size = dim*HyperParams.batch_pos_size + HyperParams.dim_latent\n",
    "rec_hidden_size = dyn_hidden_size\n",
    "rec_output_size = HyperParams.batch_pos_size\n",
    "\n",
    "dyn_model = dynamics_network.DynNet(dyn_input_size, dyn_hidden_size, HyperParams.dim_latent)\n",
    "rec_model = dynamics_network.RecNet(rec_input_size, rec_hidden_size, rec_output_size)\n",
    "dyn_model = dyn_model.to(device)\n",
    "rec_model = rec_model.to(device)\n",
    "\n",
    "torch.set_default_dtype(torch.float32)\n",
    "optimizer = torch.optim.Adam([\n",
    "    {'params': dyn_model.parameters()},\n",
    "    {'params': rec_model.parameters()}\n",
    "], lr=HyperParams.learning_rate,  weight_decay=HyperParams.weight_decay)\n",
    "scheduler = torch.optim.lr_scheduler.MultiStepLR(optimizer, milestones=HyperParams.miles, gamma=HyperParams.gamma)"
   ]
  },
  {
   "cell_type": "markdown",
   "id": "c5f49619-2e97-442f-97cb-79f8c40ff42d",
   "metadata": {},
   "source": [
    "# Train the network"
   ]
  },
  {
   "cell_type": "code",
   "execution_count": 14,
   "id": "32d5b31b-8357-4a3f-bb7b-cb8aa4b314b9",
   "metadata": {},
   "outputs": [
    {
     "name": "stderr",
     "output_type": "stream",
     "text": [
      "  2%|▏         | 15/1000 [00:10<11:52,  1.38it/s, Loss(training)=0.31, Loss(test)=0.296] "
     ]
    }
   ],
   "source": [
    "train_history, test_history = train.train_dyn_rec_nets(dyn_model, rec_model, optimizer, scheduler,\\\n",
    "                          device, params_train, params_test, time_tensor, train_loader, test_loader, position_dataset,\\\n",
    "                              train_snapshots, test_snapshots, HyperParams)"
   ]
  },
  {
   "cell_type": "code",
   "execution_count": null,
   "id": "2c30cf63-1a12-4c56-ac5a-3b051fc3d432",
   "metadata": {},
   "outputs": [],
   "source": [
    "from matplotlib import pyplot as plt\n",
    "\n",
    "# semilogy\n",
    "\n",
    "plt.semilogy(train_history['loss'], label='train loss')\n",
    "plt.semilogy(test_history['loss'], label='test loss')\n",
    "plt.legend()\n",
    "\n",
    "plt.grid()\n",
    "#finer grid\n",
    "plt.minorticks_on()\n",
    "plt.xlabel('epoch')\n",
    "plt.ylabel('loss')\n",
    "plt.show()\n"
   ]
  }
 ],
 "metadata": {
  "kernelspec": {
   "display_name": "Python 3 (ipykernel)",
   "language": "python",
   "name": "python3"
  },
  "language_info": {
   "codemirror_mode": {
    "name": "ipython",
    "version": 3
   },
   "file_extension": ".py",
   "mimetype": "text/x-python",
   "name": "python",
   "nbconvert_exporter": "python",
   "pygments_lexer": "ipython3",
   "version": "3.11.5"
  }
 },
 "nbformat": 4,
 "nbformat_minor": 5
}
