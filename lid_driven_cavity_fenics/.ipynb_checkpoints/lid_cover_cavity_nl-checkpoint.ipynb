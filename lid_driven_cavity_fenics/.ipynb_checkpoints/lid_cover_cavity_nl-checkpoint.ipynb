{
 "cells": [
  {
   "cell_type": "code",
   "execution_count": 1,
   "id": "9aea1707-7b09-4b97-b851-cce9b36716c4",
   "metadata": {},
   "outputs": [
    {
     "ename": "ModuleNotFoundError",
     "evalue": "No module named 'fenics'",
     "output_type": "error",
     "traceback": [
      "\u001b[0;31m---------------------------------------------------------------------------\u001b[0m",
      "\u001b[0;31mModuleNotFoundError\u001b[0m                       Traceback (most recent call last)",
      "Cell \u001b[0;32mIn[1], line 1\u001b[0m\n\u001b[0;32m----> 1\u001b[0m \u001b[38;5;28;01mimport\u001b[39;00m \u001b[38;5;21;01mfenics\u001b[39;00m \u001b[38;5;28;01mas\u001b[39;00m \u001b[38;5;21;01mfe\u001b[39;00m\n\u001b[1;32m      2\u001b[0m \u001b[38;5;28;01mfrom\u001b[39;00m \u001b[38;5;21;01mtqdm\u001b[39;00m \u001b[38;5;28;01mimport\u001b[39;00m tqdm \n\u001b[1;32m      3\u001b[0m \u001b[38;5;28;01mimport\u001b[39;00m \u001b[38;5;21;01mmatplotlib\u001b[39;00m\u001b[38;5;21;01m.\u001b[39;00m\u001b[38;5;21;01mpyplot\u001b[39;00m \u001b[38;5;28;01mas\u001b[39;00m \u001b[38;5;21;01mplt\u001b[39;00m\n",
      "\u001b[0;31mModuleNotFoundError\u001b[0m: No module named 'fenics'"
     ]
    }
   ],
   "source": [
    "import fenics as fe\n",
    "from tqdm import tqdm \n",
    "import matplotlib.pyplot as plt\n",
    "import numpy as np\n",
    "from mshr import *\n",
    "from gaussian_process import *\n",
    "from itertools import product\n",
    "import scipy.stats\n",
    "\n",
    "\n",
    "# fe.PETScOptions.set(\"snes_linesearch_monitor\", \"\")\n",
    "fe.PETScOptions.set(\"snes_linesearch_type\", \"bt\")"
   ]
  },
  {
   "cell_type": "markdown",
   "id": "00fc5354-03b8-4d9e-9a88-72ac59ede677",
   "metadata": {},
   "source": [
    "# Define parameters"
   ]
  },
  {
   "cell_type": "code",
   "execution_count": null,
   "id": "011376fa-a613-407a-9819-bed46bc67a8c",
   "metadata": {},
   "outputs": [],
   "source": [
    "# Define the necessary parameters\n",
    "N_SIM = 20    # number of sims\n",
    "N_F = 1      # number of frequencies\n",
    "mu = 0.0   \n",
    "sigma = 5.0\n",
    "N_POINTS_P_AXIS = 100\n",
    "TIME_STEP_LENGTH = 0.2\n",
    "TOTAL_TIME = 2\n",
    "N_TIME_STEPS = np.floor(TOTAL_TIME/TIME_STEP_LENGTH).astype(int)\n",
    "KINEMATIC_VISCOSITY = fe.Constant(0.01)\n",
    "time_vector = np.arange(0.0, TOTAL_TIME, TIME_STEP_LENGTH)"
   ]
  },
  {
   "cell_type": "markdown",
   "id": "95c64cb7-5e48-439b-b1c1-b299eccc4666",
   "metadata": {},
   "source": [
    "# Generate Fourier coefficients"
   ]
  },
  {
   "cell_type": "code",
   "execution_count": null,
   "id": "9e81a7e9-9d45-4958-9b42-b755cc644bed",
   "metadata": {},
   "outputs": [],
   "source": [
    "# Generate the gaussian BCs (using a truncated distribution)\n",
    "np.random.seed(50)\n",
    "lower = -10\n",
    "upper = 10\n",
    "mu = 0.0\n",
    "sigma = 5\n",
    "N_samples = N_SIM*N_F\n",
    "coeff = np.array(scipy.stats.truncnorm.rvs((lower-mu)/sigma,(upper-mu)/sigma,loc=mu,scale=sigma,size=N_samples))\n",
    "#alphaM = np.random.normal(mu, sigma, (N_SIM, N_F)) # we have one row for each realization, and N_F Fourier coefficients along each row\n",
    "alphaM = coeff.reshape((N_SIM, N_F))\n",
    "np.save('alpha1.npy',alphaM)\n",
    "\n",
    "# Print all u_i(t_j) to check if the Reynolds number is in the right order of magnitude\n",
    "# for i in range(0,N_SIM):\n",
    "#     for t in time_vector:\n",
    "#         print(eval_u_t(t, alphaM[i,:], TOTAL_TIME))\n"
   ]
  },
  {
   "cell_type": "markdown",
   "id": "6371c930-2aec-4a29-aaa6-9ff0de6979ab",
   "metadata": {},
   "source": [
    "# Store $u_i(t_j)$ for comparison"
   ]
  },
  {
   "cell_type": "code",
   "execution_count": null,
   "id": "65fde772-512a-480c-aa93-858752d5f742",
   "metadata": {},
   "outputs": [],
   "source": [
    "# We create a matrix that stores, in each row, the evaluations of u_i(t_j) for the i-th simulation\n",
    "u_t_matrix_Fourier = np.zeros((N_SIM, N_TIME_STEPS))\n",
    "for i in range(N_SIM):\n",
    "    u_t_matrix_Fourier[i, :] = eval_u_t(time_vector, alphaM[i, :], TOTAL_TIME)\n",
    "np.save('u_t_matrix_Fourier', u_t_matrix_Fourier)"
   ]
  },
  {
   "cell_type": "code",
   "execution_count": null,
   "id": "0ab713df-ed07-41b6-98f1-fdc422e7aa41",
   "metadata": {},
   "outputs": [],
   "source": [
    "# Create XDMF files (one for all the simulations) -> current focus only on velocity\n",
    "xdmffile_u = fe.XDMFFile('lid_cavity_u_nl.xdmf')\n",
    "xdmffile_p = fe.XDMFFile('lid_cavity_p_nl.xdmf')\n",
    "xdmffile_u.parameters[\"flush_output\"] = True\n",
    "xdmffile_u.parameters[\"functions_share_mesh\"] = True\n",
    "xdmffile_p.parameters[\"flush_output\"] = True\n",
    "xdmffile_p.parameters[\"functions_share_mesh\"] = True"
   ]
  },
  {
   "cell_type": "code",
   "execution_count": null,
   "id": "a4132d5e-dca5-4ba0-b745-90abc8141d57",
   "metadata": {},
   "outputs": [],
   "source": [
    "# Define an expression for the BC u_t\n",
    "class u_t_Expression(fe.UserExpression):\n",
    "    def __init__(self, t, alphav, **kwargs):\n",
    "        super().__init__(**kwargs)\n",
    "        self.t = t\n",
    "        self.alphav = alphav\n",
    "    def eval(self, value, x):\n",
    "        value[0] = eval_u_t(self.t, self.alphav, TOTAL_TIME)\n",
    "        value[1] = 0.0\n",
    "    def value_shape(self):\n",
    "        return (2,) "
   ]
  },
  {
   "cell_type": "code",
   "execution_count": null,
   "id": "7ac8203b",
   "metadata": {},
   "outputs": [],
   "source": [
    "class BottomVertex(fe.SubDomain):\n",
    "    def inside(self, x, on_boundary):\n",
    "        return (abs(x[0]) < fe.DOLFIN_EPS and abs(x[1]) < fe.DOLFIN_EPS)"
   ]
  },
  {
   "cell_type": "code",
   "execution_count": null,
   "id": "25037932-a570-4b48-9288-73fc11c104ca",
   "metadata": {},
   "outputs": [],
   "source": [
    "def solve_problem(alphav, num_sim):\n",
    "\n",
    "    \n",
    "    # Plot the u_t used for the i-th simulation over 2 periods\n",
    "    t_v = np.linspace(0, 2*TOTAL_TIME, 1000) \n",
    "    u_plot = eval_u_t(t_v, alphav, TOTAL_TIME)\n",
    "    plt.figure(figsize=(10, 5))\n",
    "    plt.plot(t_v, u_plot)\n",
    "    plt.xlabel('Time')\n",
    "    plt.ylabel('u(t)')\n",
    "    plt.title('u(t) current simulation')\n",
    "    plt.grid(True)\n",
    "    plt.show()\n",
    "    \n",
    "    # mesh = fe.UnitSquareMesh(N_POINTS_P_AXIS, N_POINTS_P_AXIS, \"crossed\")\n",
    "    domain = Rectangle(fe.Point(0., 0.), fe.Point(1., 1.))\n",
    "    mesh = generate_mesh(domain, N_POINTS_P_AXIS)\n",
    "   \n",
    "    # Taylor-Hood Elements. \n",
    "    element_v = fe.VectorElement(\"Lagrange\", mesh.ufl_cell(), 2)\n",
    "    element_p = fe.FiniteElement(\"Lagrange\", mesh.ufl_cell(), 1)\n",
    "    W = fe.FunctionSpace(mesh, fe.MixedElement(element_v, element_p))\n",
    "    V = fe.FunctionSpace(mesh, element_v)\n",
    "    Q = fe.FunctionSpace(mesh, element_p)\n",
    "\n",
    "    # Define trial functions\n",
    "    vq = fe.TestFunction(W)\n",
    "    delta_up = fe.TrialFunction(W)\n",
    "    (v, q) = fe.split(vq)\n",
    "\n",
    "    up = fe.Function(W)\n",
    "    (u, p) = fe.split(up)\n",
    "\n",
    "    up_prev = fe.Function(W)\n",
    "    (u_prev, _) = fe.split(up_prev)\n",
    "\n",
    "    # Define boundary conditions\n",
    "    g = u_t_Expression(0.0, alphav) \n",
    "    noslip = fe.DirichletBC(W.sub(0), (0, 0), \"x[0] < DOLFIN_EPS || x[0] > 1.0 - DOLFIN_EPS || x[1] < DOLFIN_EPS\")\n",
    "    lid = fe.DirichletBC(W.sub(0), g, \"x[1] > 1.0 - DOLFIN_EPS\")\n",
    "    pref = fe.DirichletBC(W.sub(1), 0, \"x[0] < DOLFIN_EPS && x[1] < DOLFIN_EPS\", \"pointwise\")\n",
    "\n",
    "    bc = [noslip, lid, pref]\n",
    "\n",
    "    # Stabilization if needed\n",
    "    # h = fe.CellDiameter(mesh)\n",
    "    # alpha_u = fe.Constant(1.)\n",
    "    # delta_u = alpha_u*(h**2)\n",
    "    # alpha_p = fe.Constant(1.)\n",
    "    # delta_p = alpha_p*(h**2)\n",
    "    # rho = fe.Constant(0.)\n",
    "    # rho =   0 -> SUPG (Streamline updwind Petrov Galerkin)\n",
    "    # rho =   1 -> GALS (Galerkin least squares)\n",
    "    # rho = - 1 -> Douglas-Wang\n",
    "\n",
    "    # Tentative velocity step\n",
    "    F = fe.inner(u, v)/fe.Constant(TIME_STEP_LENGTH)*fe.dx \\\n",
    "        - fe.inner(u_prev, v)/fe.Constant(TIME_STEP_LENGTH)*fe.dx \\\n",
    "        + fe.inner(fe.grad(u) * u, v) * fe.dx \\\n",
    "        + KINEMATIC_VISCOSITY * fe.inner(fe.grad(u), fe.grad(v)) * fe.dx \\\n",
    "        - fe.div(v) * p * fe.dx \\\n",
    "        - q * fe.div(u) * fe.dx \n",
    "        # + fe.inner(- KINEMATIC_VISCOSITY*fe.div(fe.grad(u)) + fe.grad(p),\n",
    "        #            -  rho*fe.delta_u*KINEMATIC_VISCOSITY*fe.div(fe.grad(v)) + delta_p*fe.grad(q))*fe.dx  # Stabilization term \n",
    "\n",
    "    J = fe.derivative(F, up, delta_up)\n",
    "\n",
    "    snes_solver_parameters = {\"nonlinear_solver\": \"snes\",\n",
    "                            \"snes_solver\": {\"linear_solver\": \"mumps\",\n",
    "                                            \"maximum_iterations\": 20,\n",
    "                                            \"report\": False,\n",
    "                                            \"error_on_nonconvergence\": True}}\n",
    "\n",
    "    (u, p) = up.split()\n",
    "    u.rename(\"u\", \"\")\n",
    "    p.rename(\"p\",\"\")\n",
    "    xdmffile_u.write(u, num_sim*TOTAL_TIME)\n",
    "    xdmffile_p.write(p, num_sim*TOTAL_TIME)\n",
    "    \n",
    "    for i in tqdm(range(1, N_TIME_STEPS)):\n",
    "\n",
    "        # Go back to \"physical\" time in order to correctly update the BC\n",
    "        t = i*TIME_STEP_LENGTH\n",
    "        g.t = t\n",
    "\n",
    "        # KINEMATIC_VISCOSITY.assign(1.)\n",
    "        problem = fe.NonlinearVariationalProblem(F, up, bc, J)\n",
    "        solver  = fe.NonlinearVariationalSolver(problem)\n",
    "        solver.parameters.update(snes_solver_parameters)\n",
    "        solver.solve()\n",
    "\n",
    "        # Store the solution in up_prev\n",
    "        fe.assign(up_prev, up)\n",
    "\n",
    "        # Save\n",
    "        (u, p) = up.split()\n",
    "        u.rename(\"u\", \"\")\n",
    "        p.rename(\"p\",\"\")\n",
    "        xdmffile_u.write(u, t+num_sim*TOTAL_TIME)\n",
    "        xdmffile_p.write(p, t+num_sim*TOTAL_TIME)\n",
    "        "
   ]
  },
  {
   "cell_type": "code",
   "execution_count": null,
   "id": "b7c327cf-d021-4545-a629-505b1ad5ccbc",
   "metadata": {},
   "outputs": [],
   "source": [
    "def main():\n",
    "    for i in range(N_SIM):\n",
    "        alphav = alphaM[i, :]\n",
    "        solve_problem(alphav, i) "
   ]
  },
  {
   "cell_type": "code",
   "execution_count": null,
   "id": "2031a7dc-81a7-4a77-b0d8-53b369114b6e",
   "metadata": {},
   "outputs": [],
   "source": [
    "if __name__ == \"__main__\":\n",
    "    main()"
   ]
  },
  {
   "cell_type": "code",
   "execution_count": null,
   "id": "5f4dff5c-2afa-4e78-9286-f74934d301ed",
   "metadata": {},
   "outputs": [],
   "source": []
  },
  {
   "cell_type": "code",
   "execution_count": null,
   "id": "52713184-a5ef-4217-b11c-3b539b44c5f1",
   "metadata": {},
   "outputs": [],
   "source": [
    "\n"
   ]
  }
 ],
 "metadata": {
  "kernelspec": {
   "display_name": "Python 3 (ipykernel)",
   "language": "python",
   "name": "python3"
  },
  "language_info": {
   "codemirror_mode": {
    "name": "ipython",
    "version": 3
   },
   "file_extension": ".py",
   "mimetype": "text/x-python",
   "name": "python",
   "nbconvert_exporter": "python",
   "pygments_lexer": "ipython3",
   "version": "3.9.18"
  }
 },
 "nbformat": 4,
 "nbformat_minor": 5
}
