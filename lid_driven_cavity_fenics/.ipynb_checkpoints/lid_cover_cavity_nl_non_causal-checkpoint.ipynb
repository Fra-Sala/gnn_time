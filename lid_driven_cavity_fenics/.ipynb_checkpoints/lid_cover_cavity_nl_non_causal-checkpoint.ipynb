{
 "cells": [
  {
   "cell_type": "code",
   "execution_count": 1,
   "id": "9aea1707-7b09-4b97-b851-cce9b36716c4",
   "metadata": {},
   "outputs": [],
   "source": [
    "import fenics as fe\n",
    "from tqdm import tqdm \n",
    "import matplotlib.pyplot as plt\n",
    "import numpy as np\n",
    "from mshr import *\n",
    "from gaussian_process import *\n",
    "\n",
    "# fe.PETScOptions.set(\"snes_linesearch_monitor\", \"\")\n",
    "fe.PETScOptions.set(\"snes_linesearch_type\", \"bt\")"
   ]
  },
  {
   "cell_type": "code",
   "execution_count": 2,
   "id": "011376fa-a613-407a-9819-bed46bc67a8c",
   "metadata": {},
   "outputs": [],
   "source": [
    "# Define the necessary parameters\n",
    "N_SIM = 3    # number of simulations\n",
    "N_F = 5      # number of frequencies\n",
    "mu = 0.0   \n",
    "sigma = 5.0\n",
    "N_POINTS_P_AXIS = 100\n",
    "TIME_STEP_LENGTH = 0.2\n",
    "TOTAL_TIME = 4\n",
    "N_TIME_STEPS = np.floor(TOTAL_TIME/TIME_STEP_LENGTH).astype(int)\n",
    "KINEMATIC_VISCOSITY = fe.Constant(0.01)\n",
    "time_vector = np.arange(0.0, TOTAL_TIME, TIME_STEP_LENGTH)\n"
   ]
  },
  {
   "cell_type": "code",
   "execution_count": 10,
   "id": "9e81a7e9-9d45-4958-9b42-b755cc644bed",
   "metadata": {},
   "outputs": [
    {
     "data": {
      "image/png": "[encoded data removed]",
      "text/plain": [
       "<Figure size 640x480 with 1 Axes>"
      ]
     },
     "metadata": {},
     "output_type": "display_data"
    }
   ],
   "source": [
    "# Generate the gaussian BCs\n",
    "np.random.seed(20)\n",
    "\n",
    "\n",
    "def generate_gauss():\n",
    "    \n",
    "    \"\"\"The function returns the Gaussian processes A(t) and P(t). \n",
    "         See Regazzoni et al.\"\"\"\n",
    "    \n",
    "    mu = 0.0\n",
    "    tau = 5.0\n",
    "    sigma = 5.0\n",
    "  \n",
    "    # Covariance kernel function\n",
    "    def covariance_kernel(t1, t2):\n",
    "        return sigma**2 * np.exp(-((t1 - t2)**2) / (2 * tau**2))\n",
    "\n",
    "    # Generate samples of A(t) and P(t) using the covariance kernel\n",
    "    mean = mu*np.ones(N_TIME_STEPS)\n",
    "    covariance_matrix = np.fromfunction(np.vectorize(lambda i, j: covariance_kernel(time_vector[i], time_vector[j])), (N_TIME_STEPS, N_TIME_STEPS), dtype=int)\n",
    "    A_t = np.random.multivariate_normal(mean, covariance_matrix)\n",
    "    #P_t = np.random.multivariate_normal(mean, covariance_matrix)\n",
    "\n",
    "    return A_t \n",
    "\n",
    "A_t = generate_gauss()\n",
    "#S_t = np.sin(time_vector/10*np.pi)\n",
    "u_t_matrix = np.zeros((N_SIM, N_TIME_STEPS))\n",
    "\n",
    "\n",
    "for i in range(N_SIM):\n",
    "    A_t = generate_gauss()\n",
    "    u_t_matrix[i,:] = A_t*np.sin(time_vector/TOTAL_TIME*np.pi)\n",
    "    \n",
    "# One row for each simulation, and along the row we have u_t(t_j)\n",
    "np.save('u_t_matrix.npy',u_t_matrix)\n",
    "\n",
    "plt.plot(time_vector, u_t_matrix[0,:] )  # check\n",
    "\n",
    "def eval_u_t(t, indx_sim):\n",
    "    u_t = u_t_matrix[indx_sim, :].T\n",
    "    return u_t[np.where(np.abs(time_vector - t) < 1e-3)[0][0]]\n",
    "\n",
    "\n"
   ]
  },
  {
   "cell_type": "code",
   "execution_count": 4,
   "id": "0ab713df-ed07-41b6-98f1-fdc422e7aa41",
   "metadata": {},
   "outputs": [],
   "source": [
    "# Create XDMF files (one for all the simulations) -> current focus only on velocity\n",
    "xdmffile_u = fe.XDMFFile('lid_cavity_u_nl_nc.xdmf')\n",
    "xdmffile_p = fe.XDMFFile('lid_cavity_p_nl_nc.xdmf')\n",
    "xdmffile_u.parameters[\"flush_output\"] = True\n",
    "xdmffile_u.parameters[\"functions_share_mesh\"] = True\n",
    "xdmffile_p.parameters[\"flush_output\"] = True\n",
    "xdmffile_p.parameters[\"functions_share_mesh\"] = True"
   ]
  },
  {
   "cell_type": "code",
   "execution_count": 5,
   "id": "a4132d5e-dca5-4ba0-b745-90abc8141d57",
   "metadata": {},
   "outputs": [],
   "source": [
    "# Define an expression for the BC u_t\n",
    "class u_t_Expression(fe.UserExpression):\n",
    "    def __init__(self, t, indx_sim, **kwargs):\n",
    "        super().__init__(**kwargs)\n",
    "        self.t = t\n",
    "        self.sim = indx_sim  # the current simulation\n",
    "    def eval(self, value, x):\n",
    "        value[0] = eval_u_t(self.t, self.sim)\n",
    "        value[1] = 0.0\n",
    "    def value_shape(self):\n",
    "        return (2,) "
   ]
  },
  {
   "cell_type": "code",
   "execution_count": 6,
   "id": "7ac8203b",
   "metadata": {},
   "outputs": [],
   "source": [
    "class BottomVertex(fe.SubDomain):\n",
    "    def inside(self, x, on_boundary):\n",
    "        return (abs(x[0]) < fe.DOLFIN_EPS and abs(x[1]) < fe.DOLFIN_EPS)"
   ]
  },
  {
   "cell_type": "code",
   "execution_count": 7,
   "id": "25037932-a570-4b48-9288-73fc11c104ca",
   "metadata": {},
   "outputs": [],
   "source": [
    "def solve_problem(indx_sim):\n",
    "\n",
    "    \n",
    "    # mesh = fe.UnitSquareMesh(N_POINTS_P_AXIS, N_POINTS_P_AXIS, \"crossed\")\n",
    "    domain = Rectangle(fe.Point(0., 0.), fe.Point(1., 1.))\n",
    "    mesh = generate_mesh(domain, N_POINTS_P_AXIS)\n",
    "   \n",
    "    # Taylor-Hood Elements. \n",
    "    element_v = fe.VectorElement(\"Lagrange\", mesh.ufl_cell(), 2)\n",
    "    element_p = fe.FiniteElement(\"Lagrange\", mesh.ufl_cell(), 1)\n",
    "    W = fe.FunctionSpace(mesh, fe.MixedElement(element_v, element_p))\n",
    "    V = fe.FunctionSpace(mesh, element_v)\n",
    "    Q = fe.FunctionSpace(mesh, element_p)\n",
    "\n",
    "    # Define trial functions\n",
    "    vq = fe.TestFunction(W)\n",
    "    delta_up = fe.TrialFunction(W)\n",
    "    (v, q) = fe.split(vq)\n",
    "\n",
    "    up = fe.Function(W)\n",
    "    (u, p) = fe.split(up)\n",
    "\n",
    "    up_prev = fe.Function(W)\n",
    "    (u_prev, _) = fe.split(up_prev)\n",
    "\n",
    "    # Define boundary conditions\n",
    "    g = u_t_Expression(0.0, indx_sim) \n",
    "    noslip = fe.DirichletBC(W.sub(0), (0, 0), \"x[0] < DOLFIN_EPS || x[0] > 1.0 - DOLFIN_EPS || x[1] < DOLFIN_EPS\")\n",
    "    lid = fe.DirichletBC(W.sub(0), g, \"x[1] > 1.0 - DOLFIN_EPS\")\n",
    "    pref = fe.DirichletBC(W.sub(1), 0, \"x[0] < DOLFIN_EPS && x[1] < DOLFIN_EPS\", \"pointwise\")\n",
    "\n",
    "    bc = [noslip, lid, pref]\n",
    "\n",
    "    # Stabilization if needed\n",
    "    # h = fe.CellDiameter(mesh)\n",
    "    # alpha_u = fe.Constant(1.)\n",
    "    # delta_u = alpha_u*(h**2)\n",
    "    # alpha_p = fe.Constant(1.)\n",
    "    # delta_p = alpha_p*(h**2)\n",
    "    # rho = fe.Constant(0.)\n",
    "    # rho =   0 -> SUPG (Streamline updwind Petrov Galerkin)\n",
    "    # rho =   1 -> GALS (Galerkin least squares)\n",
    "    # rho = - 1 -> Douglas-Wang\n",
    "\n",
    "    # Tentative velocity step\n",
    "    F = fe.inner(u, v)/fe.Constant(TIME_STEP_LENGTH)*fe.dx \\\n",
    "        - fe.inner(u_prev, v)/fe.Constant(TIME_STEP_LENGTH)*fe.dx \\\n",
    "        + fe.inner(fe.grad(u) * u, v) * fe.dx \\\n",
    "        + KINEMATIC_VISCOSITY * fe.inner(fe.grad(u), fe.grad(v)) * fe.dx \\\n",
    "        - fe.div(v) * p * fe.dx \\\n",
    "        - q * fe.div(u) * fe.dx \n",
    "        # + fe.inner(- KINEMATIC_VISCOSITY*fe.div(fe.grad(u)) + fe.grad(p),\n",
    "        #            -  rho*fe.delta_u*KINEMATIC_VISCOSITY*fe.div(fe.grad(v)) + delta_p*fe.grad(q))*fe.dx  # Stabilization term \n",
    "\n",
    "    J = fe.derivative(F, up, delta_up)\n",
    "\n",
    "    snes_solver_parameters = {\"nonlinear_solver\": \"snes\",\n",
    "                            \"snes_solver\": {\"linear_solver\": \"mumps\",\n",
    "                                            \"maximum_iterations\": 20,\n",
    "                                            \"report\": False,\n",
    "                                            \"error_on_nonconvergence\": True}}\n",
    "\n",
    "    (u, p) = up.split()\n",
    "    u.rename(\"u\", \"\")\n",
    "    p.rename(\"p\",\"\")\n",
    "    xdmffile_u.write(u, indx_sim*TOTAL_TIME)\n",
    "    xdmffile_p.write(p, indx_sim*TOTAL_TIME)\n",
    "    \n",
    "    for i in tqdm(range(1, N_TIME_STEPS)):\n",
    "\n",
    "        # Go back to \"physical\" time in order to correctly update the BC\n",
    "        t = i*TIME_STEP_LENGTH\n",
    "        g.t = t\n",
    "\n",
    "        # KINEMATIC_VISCOSITY.assign(1.)\n",
    "        problem = fe.NonlinearVariationalProblem(F, up, bc, J)\n",
    "        solver  = fe.NonlinearVariationalSolver(problem)\n",
    "        solver.parameters.update(snes_solver_parameters)\n",
    "        solver.solve()\n",
    "\n",
    "        # Store the solution in up_prev\n",
    "        fe.assign(up_prev, up)\n",
    "\n",
    "        # Save\n",
    "        (u, p) = up.split()\n",
    "        u.rename(\"u\", \"\")\n",
    "        p.rename(\"p\",\"\")\n",
    "        xdmffile_u.write(u, t+indx_sim*TOTAL_TIME)\n",
    "        xdmffile_p.write(p, t+indx_sim*TOTAL_TIME)\n",
    "        "
   ]
  },
  {
   "cell_type": "code",
   "execution_count": 8,
   "id": "b7c327cf-d021-4545-a629-505b1ad5ccbc",
   "metadata": {},
   "outputs": [],
   "source": [
    "def main():\n",
    "    for i in range(N_SIM):\n",
    "        solve_problem(i) "
   ]
  },
  {
   "cell_type": "code",
   "execution_count": 9,
   "id": "2031a7dc-81a7-4a77-b0d8-53b369114b6e",
   "metadata": {},
   "outputs": [
    {
     "name": "stderr",
     "output_type": "stream",
     "text": [
      "  0%|                                                    | 0/19 [00:00<?, ?it/s]"
     ]
    },
    {
     "name": "stdout",
     "output_type": "stream",
     "text": [
      "Solving nonlinear variational problem.\n"
     ]
    },
    {
     "name": "stderr",
     "output_type": "stream",
     "text": [
      "  5%|██▎                                         | 1/19 [00:17<05:17, 17.66s/it]"
     ]
    },
    {
     "name": "stdout",
     "output_type": "stream",
     "text": [
      "Solving nonlinear variational problem.\n"
     ]
    },
    {
     "name": "stderr",
     "output_type": "stream",
     "text": [
      " 11%|████▋                                       | 2/19 [00:35<05:03, 17.83s/it]"
     ]
    },
    {
     "name": "stdout",
     "output_type": "stream",
     "text": [
      "Solving nonlinear variational problem.\n"
     ]
    },
    {
     "name": "stderr",
     "output_type": "stream",
     "text": [
      " 16%|██████▉                                     | 3/19 [00:52<04:39, 17.45s/it]"
     ]
    },
    {
     "name": "stdout",
     "output_type": "stream",
     "text": [
      "Solving nonlinear variational problem.\n"
     ]
    },
    {
     "name": "stderr",
     "output_type": "stream",
     "text": [
      " 21%|█████████▎                                  | 4/19 [01:09<04:21, 17.41s/it]"
     ]
    },
    {
     "name": "stdout",
     "output_type": "stream",
     "text": [
      "Solving nonlinear variational problem.\n"
     ]
    },
    {
     "name": "stderr",
     "output_type": "stream",
     "text": [
      " 26%|███████████▌                                | 5/19 [01:29<04:16, 18.32s/it]"
     ]
    },
    {
     "name": "stdout",
     "output_type": "stream",
     "text": [
      "Solving nonlinear variational problem.\n"
     ]
    },
    {
     "name": "stderr",
     "output_type": "stream",
     "text": [
      " 32%|█████████████▉                              | 6/19 [01:47<03:54, 18.04s/it]"
     ]
    },
    {
     "name": "stdout",
     "output_type": "stream",
     "text": [
      "Solving nonlinear variational problem.\n"
     ]
    },
    {
     "name": "stderr",
     "output_type": "stream",
     "text": [
      " 37%|████████████████▏                           | 7/19 [02:04<03:32, 17.72s/it]"
     ]
    },
    {
     "name": "stdout",
     "output_type": "stream",
     "text": [
      "Solving nonlinear variational problem.\n"
     ]
    },
    {
     "name": "stderr",
     "output_type": "stream",
     "text": [
      " 42%|██████████████████▌                         | 8/19 [02:22<03:15, 17.76s/it]"
     ]
    },
    {
     "name": "stdout",
     "output_type": "stream",
     "text": [
      "Solving nonlinear variational problem.\n"
     ]
    },
    {
     "name": "stderr",
     "output_type": "stream",
     "text": [
      " 47%|████████████████████▊                       | 9/19 [02:40<02:59, 17.94s/it]"
     ]
    },
    {
     "name": "stdout",
     "output_type": "stream",
     "text": [
      "Solving nonlinear variational problem.\n"
     ]
    },
    {
     "name": "stderr",
     "output_type": "stream",
     "text": [
      " 53%|██████████████████████▋                    | 10/19 [02:59<02:42, 18.08s/it]"
     ]
    },
    {
     "name": "stdout",
     "output_type": "stream",
     "text": [
      "Solving nonlinear variational problem.\n"
     ]
    },
    {
     "name": "stderr",
     "output_type": "stream",
     "text": [
      " 58%|████████████████████████▉                  | 11/19 [03:17<02:25, 18.21s/it]"
     ]
    },
    {
     "name": "stdout",
     "output_type": "stream",
     "text": [
      "Solving nonlinear variational problem.\n"
     ]
    },
    {
     "name": "stderr",
     "output_type": "stream",
     "text": [
      " 63%|███████████████████████████▏               | 12/19 [03:35<02:06, 18.10s/it]"
     ]
    },
    {
     "name": "stdout",
     "output_type": "stream",
     "text": [
      "Solving nonlinear variational problem.\n"
     ]
    },
    {
     "name": "stderr",
     "output_type": "stream",
     "text": [
      " 68%|█████████████████████████████▍             | 13/19 [03:54<01:50, 18.42s/it]"
     ]
    },
    {
     "name": "stdout",
     "output_type": "stream",
     "text": [
      "Solving nonlinear variational problem.\n"
     ]
    },
    {
     "name": "stderr",
     "output_type": "stream",
     "text": [
      " 74%|███████████████████████████████▋           | 14/19 [04:14<01:34, 18.93s/it]"
     ]
    },
    {
     "name": "stdout",
     "output_type": "stream",
     "text": [
      "Solving nonlinear variational problem.\n"
     ]
    },
    {
     "name": "stderr",
     "output_type": "stream",
     "text": [
      " 79%|█████████████████████████████████▉         | 15/19 [04:31<01:13, 18.38s/it]"
     ]
    },
    {
     "name": "stdout",
     "output_type": "stream",
     "text": [
      "Solving nonlinear variational problem.\n"
     ]
    },
    {
     "name": "stderr",
     "output_type": "stream",
     "text": [
      " 84%|████████████████████████████████████▏      | 16/19 [04:48<00:53, 17.96s/it]"
     ]
    },
    {
     "name": "stdout",
     "output_type": "stream",
     "text": [
      "Solving nonlinear variational problem.\n"
     ]
    },
    {
     "name": "stderr",
     "output_type": "stream",
     "text": [
      " 89%|██████████████████████████████████████▍    | 17/19 [05:05<00:35, 17.61s/it]"
     ]
    },
    {
     "name": "stdout",
     "output_type": "stream",
     "text": [
      "Solving nonlinear variational problem.\n"
     ]
    },
    {
     "name": "stderr",
     "output_type": "stream",
     "text": [
      " 95%|████████████████████████████████████████▋  | 18/19 [05:21<00:17, 17.20s/it]"
     ]
    },
    {
     "name": "stdout",
     "output_type": "stream",
     "text": [
      "Solving nonlinear variational problem.\n"
     ]
    },
    {
     "name": "stderr",
     "output_type": "stream",
     "text": [
      "100%|███████████████████████████████████████████| 19/19 [05:40<00:00, 17.90s/it]\n",
      "  0%|                                                    | 0/19 [00:00<?, ?it/s]"
     ]
    },
    {
     "name": "stdout",
     "output_type": "stream",
     "text": [
      "Solving nonlinear variational problem.\n"
     ]
    },
    {
     "name": "stderr",
     "output_type": "stream",
     "text": [
      "  5%|██▎                                         | 1/19 [00:19<05:42, 19.05s/it]"
     ]
    },
    {
     "name": "stdout",
     "output_type": "stream",
     "text": [
      "Solving nonlinear variational problem.\n"
     ]
    },
    {
     "name": "stderr",
     "output_type": "stream",
     "text": [
      " 11%|████▋                                       | 2/19 [00:36<05:10, 18.24s/it]"
     ]
    },
    {
     "name": "stdout",
     "output_type": "stream",
     "text": [
      "Solving nonlinear variational problem.\n"
     ]
    },
    {
     "name": "stderr",
     "output_type": "stream",
     "text": [
      " 16%|██████▉                                     | 3/19 [00:54<04:49, 18.11s/it]"
     ]
    },
    {
     "name": "stdout",
     "output_type": "stream",
     "text": [
      "Solving nonlinear variational problem.\n"
     ]
    },
    {
     "name": "stderr",
     "output_type": "stream",
     "text": [
      " 21%|█████████▎                                  | 4/19 [01:12<04:29, 17.98s/it]"
     ]
    },
    {
     "name": "stdout",
     "output_type": "stream",
     "text": [
      "Solving nonlinear variational problem.\n"
     ]
    },
    {
     "name": "stderr",
     "output_type": "stream",
     "text": [
      " 26%|███████████▌                                | 5/19 [01:29<04:09, 17.79s/it]"
     ]
    },
    {
     "name": "stdout",
     "output_type": "stream",
     "text": [
      "Solving nonlinear variational problem.\n"
     ]
    },
    {
     "name": "stderr",
     "output_type": "stream",
     "text": [
      " 32%|█████████████▉                              | 6/19 [01:47<03:49, 17.68s/it]"
     ]
    },
    {
     "name": "stdout",
     "output_type": "stream",
     "text": [
      "Solving nonlinear variational problem.\n"
     ]
    },
    {
     "name": "stderr",
     "output_type": "stream",
     "text": [
      " 37%|████████████████▏                           | 7/19 [02:05<03:33, 17.81s/it]"
     ]
    },
    {
     "name": "stdout",
     "output_type": "stream",
     "text": [
      "Solving nonlinear variational problem.\n"
     ]
    },
    {
     "name": "stderr",
     "output_type": "stream",
     "text": [
      " 42%|██████████████████▌                         | 8/19 [02:23<03:15, 17.77s/it]"
     ]
    },
    {
     "name": "stdout",
     "output_type": "stream",
     "text": [
      "Solving nonlinear variational problem.\n"
     ]
    },
    {
     "name": "stderr",
     "output_type": "stream",
     "text": [
      " 47%|████████████████████▊                       | 9/19 [02:40<02:57, 17.79s/it]"
     ]
    },
    {
     "name": "stdout",
     "output_type": "stream",
     "text": [
      "Solving nonlinear variational problem.\n"
     ]
    },
    {
     "name": "stderr",
     "output_type": "stream",
     "text": [
      " 53%|██████████████████████▋                    | 10/19 [02:58<02:40, 17.79s/it]"
     ]
    },
    {
     "name": "stdout",
     "output_type": "stream",
     "text": [
      "Solving nonlinear variational problem.\n"
     ]
    },
    {
     "name": "stderr",
     "output_type": "stream",
     "text": [
      " 58%|████████████████████████▉                  | 11/19 [03:17<02:23, 17.98s/it]"
     ]
    },
    {
     "name": "stdout",
     "output_type": "stream",
     "text": [
      "Solving nonlinear variational problem.\n"
     ]
    },
    {
     "name": "stderr",
     "output_type": "stream",
     "text": [
      " 63%|███████████████████████████▏               | 12/19 [03:34<02:05, 17.90s/it]"
     ]
    },
    {
     "name": "stdout",
     "output_type": "stream",
     "text": [
      "Solving nonlinear variational problem.\n"
     ]
    },
    {
     "name": "stderr",
     "output_type": "stream",
     "text": [
      " 68%|█████████████████████████████▍             | 13/19 [03:53<01:49, 18.20s/it]"
     ]
    },
    {
     "name": "stdout",
     "output_type": "stream",
     "text": [
      "Solving nonlinear variational problem.\n"
     ]
    },
    {
     "name": "stderr",
     "output_type": "stream",
     "text": [
      " 74%|███████████████████████████████▋           | 14/19 [04:07<01:23, 16.79s/it]"
     ]
    },
    {
     "name": "stdout",
     "output_type": "stream",
     "text": [
      "Solving nonlinear variational problem.\n"
     ]
    },
    {
     "name": "stderr",
     "output_type": "stream",
     "text": [
      " 79%|█████████████████████████████████▉         | 15/19 [04:24<01:08, 17.03s/it]"
     ]
    },
    {
     "name": "stdout",
     "output_type": "stream",
     "text": [
      "Solving nonlinear variational problem.\n"
     ]
    },
    {
     "name": "stderr",
     "output_type": "stream",
     "text": [
      " 84%|████████████████████████████████████▏      | 16/19 [04:42<00:51, 17.13s/it]"
     ]
    },
    {
     "name": "stdout",
     "output_type": "stream",
     "text": [
      "Solving nonlinear variational problem.\n"
     ]
    },
    {
     "name": "stderr",
     "output_type": "stream",
     "text": [
      " 89%|██████████████████████████████████████▍    | 17/19 [04:59<00:34, 17.24s/it]"
     ]
    },
    {
     "name": "stdout",
     "output_type": "stream",
     "text": [
      "Solving nonlinear variational problem.\n"
     ]
    },
    {
     "name": "stderr",
     "output_type": "stream",
     "text": [
      " 95%|████████████████████████████████████████▋  | 18/19 [05:17<00:17, 17.44s/it]"
     ]
    },
    {
     "name": "stdout",
     "output_type": "stream",
     "text": [
      "Solving nonlinear variational problem.\n"
     ]
    },
    {
     "name": "stderr",
     "output_type": "stream",
     "text": [
      "100%|███████████████████████████████████████████| 19/19 [05:35<00:00, 17.64s/it]\n",
      "  0%|                                                    | 0/19 [00:00<?, ?it/s]"
     ]
    },
    {
     "name": "stdout",
     "output_type": "stream",
     "text": [
      "Solving nonlinear variational problem.\n"
     ]
    },
    {
     "name": "stderr",
     "output_type": "stream",
     "text": [
      "  5%|██▎                                         | 1/19 [00:16<04:58, 16.61s/it]"
     ]
    },
    {
     "name": "stdout",
     "output_type": "stream",
     "text": [
      "Solving nonlinear variational problem.\n"
     ]
    },
    {
     "name": "stderr",
     "output_type": "stream",
     "text": [
      " 11%|████▋                                       | 2/19 [00:24<03:10, 11.22s/it]"
     ]
    },
    {
     "name": "stdout",
     "output_type": "stream",
     "text": [
      "Solving nonlinear variational problem.\n"
     ]
    },
    {
     "name": "stderr",
     "output_type": "stream",
     "text": [
      " 16%|██████▉                                     | 3/19 [00:31<02:33,  9.59s/it]"
     ]
    },
    {
     "name": "stdout",
     "output_type": "stream",
     "text": [
      "Solving nonlinear variational problem.\n"
     ]
    },
    {
     "name": "stderr",
     "output_type": "stream",
     "text": [
      " 21%|█████████▎                                  | 4/19 [00:39<02:13,  8.93s/it]"
     ]
    },
    {
     "name": "stdout",
     "output_type": "stream",
     "text": [
      "Solving nonlinear variational problem.\n"
     ]
    },
    {
     "name": "stderr",
     "output_type": "stream",
     "text": [
      " 26%|███████████▌                                | 5/19 [00:47<02:00,  8.61s/it]"
     ]
    },
    {
     "name": "stdout",
     "output_type": "stream",
     "text": [
      "Solving nonlinear variational problem.\n"
     ]
    },
    {
     "name": "stderr",
     "output_type": "stream",
     "text": [
      " 32%|█████████████▉                              | 6/19 [00:55<01:50,  8.49s/it]"
     ]
    },
    {
     "name": "stdout",
     "output_type": "stream",
     "text": [
      "Solving nonlinear variational problem.\n"
     ]
    },
    {
     "name": "stderr",
     "output_type": "stream",
     "text": [
      " 37%|████████████████▏                           | 7/19 [01:04<01:41,  8.47s/it]"
     ]
    },
    {
     "name": "stdout",
     "output_type": "stream",
     "text": [
      "Solving nonlinear variational problem.\n"
     ]
    },
    {
     "name": "stderr",
     "output_type": "stream",
     "text": [
      " 42%|██████████████████▌                         | 8/19 [01:12<01:33,  8.47s/it]"
     ]
    },
    {
     "name": "stdout",
     "output_type": "stream",
     "text": [
      "Solving nonlinear variational problem.\n"
     ]
    },
    {
     "name": "stderr",
     "output_type": "stream",
     "text": [
      " 47%|████████████████████▊                       | 9/19 [01:22<01:28,  8.86s/it]"
     ]
    },
    {
     "name": "stdout",
     "output_type": "stream",
     "text": [
      "Solving nonlinear variational problem.\n"
     ]
    },
    {
     "name": "stderr",
     "output_type": "stream",
     "text": [
      " 53%|██████████████████████▋                    | 10/19 [01:31<01:19,  8.87s/it]"
     ]
    },
    {
     "name": "stdout",
     "output_type": "stream",
     "text": [
      "Solving nonlinear variational problem.\n"
     ]
    },
    {
     "name": "stderr",
     "output_type": "stream",
     "text": [
      " 58%|████████████████████████▉                  | 11/19 [01:42<01:16,  9.60s/it]"
     ]
    },
    {
     "name": "stdout",
     "output_type": "stream",
     "text": [
      "Solving nonlinear variational problem.\n"
     ]
    },
    {
     "name": "stderr",
     "output_type": "stream",
     "text": [
      " 63%|███████████████████████████▏               | 12/19 [01:51<01:04,  9.25s/it]"
     ]
    },
    {
     "name": "stdout",
     "output_type": "stream",
     "text": [
      "Solving nonlinear variational problem.\n"
     ]
    },
    {
     "name": "stderr",
     "output_type": "stream",
     "text": [
      " 68%|█████████████████████████████▍             | 13/19 [01:59<00:53,  8.92s/it]"
     ]
    },
    {
     "name": "stdout",
     "output_type": "stream",
     "text": [
      "Solving nonlinear variational problem.\n"
     ]
    },
    {
     "name": "stderr",
     "output_type": "stream",
     "text": [
      " 74%|███████████████████████████████▋           | 14/19 [02:09<00:47,  9.43s/it]"
     ]
    },
    {
     "name": "stdout",
     "output_type": "stream",
     "text": [
      "Solving nonlinear variational problem.\n"
     ]
    },
    {
     "name": "stderr",
     "output_type": "stream",
     "text": [
      " 79%|█████████████████████████████████▉         | 15/19 [02:18<00:36,  9.08s/it]"
     ]
    },
    {
     "name": "stdout",
     "output_type": "stream",
     "text": [
      "Solving nonlinear variational problem.\n"
     ]
    },
    {
     "name": "stderr",
     "output_type": "stream",
     "text": [
      " 84%|████████████████████████████████████▏      | 16/19 [02:26<00:26,  8.85s/it]"
     ]
    },
    {
     "name": "stdout",
     "output_type": "stream",
     "text": [
      "Solving nonlinear variational problem.\n"
     ]
    },
    {
     "name": "stderr",
     "output_type": "stream",
     "text": [
      " 89%|██████████████████████████████████████▍    | 17/19 [02:34<00:17,  8.59s/it]"
     ]
    },
    {
     "name": "stdout",
     "output_type": "stream",
     "text": [
      "Solving nonlinear variational problem.\n"
     ]
    },
    {
     "name": "stderr",
     "output_type": "stream",
     "text": [
      " 95%|████████████████████████████████████████▋  | 18/19 [02:43<00:08,  8.63s/it]"
     ]
    },
    {
     "name": "stdout",
     "output_type": "stream",
     "text": [
      "Solving nonlinear variational problem.\n"
     ]
    },
    {
     "name": "stderr",
     "output_type": "stream",
     "text": [
      "100%|███████████████████████████████████████████| 19/19 [02:51<00:00,  9.03s/it]\n"
     ]
    }
   ],
   "source": [
    "if __name__ == \"__main__\":\n",
    "    main()"
   ]
  },
  {
   "cell_type": "code",
   "execution_count": null,
   "id": "52713184-a5ef-4217-b11c-3b539b44c5f1",
   "metadata": {},
   "outputs": [],
   "source": [
    "\n"
   ]
  }
 ],
 "metadata": {
  "kernelspec": {
   "display_name": "Python 3 (ipykernel)",
   "language": "python",
   "name": "python3"
  },
  "language_info": {
   "codemirror_mode": {
    "name": "ipython",
    "version": 3
   },
   "file_extension": ".py",
   "mimetype": "text/x-python",
   "name": "python",
   "nbconvert_exporter": "python",
   "pygments_lexer": "ipython3",
   "version": "3.11.5"
  }
 },
 "nbformat": 4,
 "nbformat_minor": 5
}
