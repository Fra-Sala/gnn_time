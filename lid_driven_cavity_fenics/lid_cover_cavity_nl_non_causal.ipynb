{
 "cells": [
  {
   "cell_type": "code",
   "execution_count": 1,
   "id": "9aea1707-7b09-4b97-b851-cce9b36716c4",
   "metadata": {},
   "outputs": [],
   "source": [
    "import fenics as fe\n",
    "from tqdm import tqdm \n",
    "import matplotlib.pyplot as plt\n",
    "import numpy as np\n",
    "from mshr import *\n",
    "from gaussian_process import *\n",
    "\n",
    "# fe.PETScOptions.set(\"snes_linesearch_monitor\", \"\")\n",
    "fe.PETScOptions.set(\"snes_linesearch_type\", \"bt\")"
   ]
  },
  {
   "cell_type": "code",
   "execution_count": 2,
   "id": "011376fa-a613-407a-9819-bed46bc67a8c",
   "metadata": {},
   "outputs": [],
   "source": [
    "# Define the necessary parameters\n",
    "N_SIM = 3    # number of simulations\n",
    "N_F = 5      # number of frequencies\n",
    "mu = 0.0   \n",
    "sigma = 5.0\n",
    "N_POINTS_P_AXIS = 100\n",
    "TIME_STEP_LENGTH = 0.2\n",
    "TOTAL_TIME = 2\n",
    "N_TIME_STEPS = np.floor(TOTAL_TIME/TIME_STEP_LENGTH).astype(int)\n",
    "KINEMATIC_VISCOSITY = fe.Constant(0.01)\n",
    "time_vector = np.arange(0.0, TOTAL_TIME, TIME_STEP_LENGTH)\n"
   ]
  },
  {
   "cell_type": "code",
   "execution_count": 3,
   "id": "9e81a7e9-9d45-4958-9b42-b755cc644bed",
   "metadata": {},
   "outputs": [
    {
     "data": {
      "image/png": "[encoded data removed]",
      "text/plain": [
       "<Figure size 640x480 with 1 Axes>"
      ]
     },
     "metadata": {},
     "output_type": "display_data"
    }
   ],
   "source": [
    "# Generate the gaussian BCs\n",
    "np.random.seed(20)\n",
    "\n",
    "\n",
    "def generate_gauss():\n",
    "    \n",
    "    \"\"\"The function returns the Gaussian processes A(t) and P(t). \n",
    "         See Regazzoni et al.\"\"\"\n",
    "    \n",
    "    mu = 0.0\n",
    "    tau = 5.0\n",
    "    sigma = 5.0\n",
    "  \n",
    "    # Covariance kernel function\n",
    "    def covariance_kernel(t1, t2):\n",
    "        return sigma**2 * np.exp(-((t1 - t2)**2) / (2 * tau**2))\n",
    "\n",
    "    # Generate samples of A(t) and P(t) using the covariance kernel\n",
    "    mean = mu*np.ones(N_TIME_STEPS)\n",
    "    covariance_matrix = np.fromfunction(np.vectorize(lambda i, j: covariance_kernel(time_vector[i], time_vector[j])), (N_TIME_STEPS, N_TIME_STEPS), dtype=int)\n",
    "    A_t = np.random.multivariate_normal(mean, covariance_matrix)\n",
    "    #P_t = np.random.multivariate_normal(mean, covariance_matrix)\n",
    "\n",
    "    return A_t \n",
    "\n",
    "A_t = generate_gauss()\n",
    "#S_t = np.sin(time_vector/10*np.pi)\n",
    "u_t_matrix = np.zeros((N_SIM, N_TIME_STEPS))\n",
    "\n",
    "\n",
    "for i in range(N_SIM):\n",
    "    A_t = generate_gauss()\n",
    "    u_t_matrix[i,:] = A_t*np.sin(time_vector/TOTAL_TIME*np.pi)\n",
    "    \n",
    "# One row for each simulation, and along the row we have u_t(t_j)\n",
    "np.save('u_t_matrix.npy',u_t_matrix)\n",
    "\n",
    "plt.plot(time_vector, u_t_matrix[0,:] )  # check\n",
    "\n",
    "def eval_u_t(t, indx_sim):\n",
    "    u_t = u_t_matrix[indx_sim, :].T\n",
    "    return u_t[np.where(np.abs(time_vector - t) < 1e-3)[0][0]]\n",
    "\n",
    "\n"
   ]
  },
  {
   "cell_type": "code",
   "execution_count": 4,
   "id": "0ab713df-ed07-41b6-98f1-fdc422e7aa41",
   "metadata": {},
   "outputs": [],
   "source": [
    "# Create XDMF files (one for all the simulations) -> current focus only on velocity\n",
    "xdmffile_u = fe.XDMFFile('lid_cavity_u_nl_nc.xdmf')\n",
    "xdmffile_p = fe.XDMFFile('lid_cavity_p_nl_nc.xdmf')\n",
    "xdmffile_u.parameters[\"flush_output\"] = True\n",
    "xdmffile_u.parameters[\"functions_share_mesh\"] = True\n",
    "xdmffile_p.parameters[\"flush_output\"] = True\n",
    "xdmffile_p.parameters[\"functions_share_mesh\"] = True"
   ]
  },
  {
   "cell_type": "code",
   "execution_count": 5,
   "id": "a4132d5e-dca5-4ba0-b745-90abc8141d57",
   "metadata": {},
   "outputs": [],
   "source": [
    "# Define an expression for the BC u_t\n",
    "class u_t_Expression(fe.UserExpression):\n",
    "    def __init__(self, t, indx_sim, **kwargs):\n",
    "        super().__init__(**kwargs)\n",
    "        self.t = t\n",
    "        self.sim = indx_sim  # the current simulation\n",
    "    def eval(self, value, x):\n",
    "        value[0] = eval_u_t(self.t, self.sim)\n",
    "        value[1] = 0.0\n",
    "    def value_shape(self):\n",
    "        return (2,) "
   ]
  },
  {
   "cell_type": "code",
   "execution_count": 6,
   "id": "7ac8203b",
   "metadata": {},
   "outputs": [],
   "source": [
    "class BottomVertex(fe.SubDomain):\n",
    "    def inside(self, x, on_boundary):\n",
    "        return (abs(x[0]) < fe.DOLFIN_EPS and abs(x[1]) < fe.DOLFIN_EPS)"
   ]
  },
  {
   "cell_type": "code",
   "execution_count": 7,
   "id": "25037932-a570-4b48-9288-73fc11c104ca",
   "metadata": {},
   "outputs": [],
   "source": [
    "def solve_problem(indx_sim):\n",
    "\n",
    "    \n",
    "    # mesh = fe.UnitSquareMesh(N_POINTS_P_AXIS, N_POINTS_P_AXIS, \"crossed\")\n",
    "    domain = Rectangle(fe.Point(0., 0.), fe.Point(1., 1.))\n",
    "    mesh = generate_mesh(domain, N_POINTS_P_AXIS)\n",
    "   \n",
    "    # Taylor-Hood Elements. \n",
    "    element_v = fe.VectorElement(\"Lagrange\", mesh.ufl_cell(), 2)\n",
    "    element_p = fe.FiniteElement(\"Lagrange\", mesh.ufl_cell(), 1)\n",
    "    W = fe.FunctionSpace(mesh, fe.MixedElement(element_v, element_p))\n",
    "    V = fe.FunctionSpace(mesh, element_v)\n",
    "    Q = fe.FunctionSpace(mesh, element_p)\n",
    "\n",
    "    # Define trial functions\n",
    "    vq = fe.TestFunction(W)\n",
    "    delta_up = fe.TrialFunction(W)\n",
    "    (v, q) = fe.split(vq)\n",
    "\n",
    "    up = fe.Function(W)\n",
    "    (u, p) = fe.split(up)\n",
    "\n",
    "    up_prev = fe.Function(W)\n",
    "    (u_prev, _) = fe.split(up_prev)\n",
    "\n",
    "    # Define boundary conditions\n",
    "    g = u_t_Expression(0.0, indx_sim) \n",
    "    noslip = fe.DirichletBC(W.sub(0), (0, 0), \"x[0] < DOLFIN_EPS || x[0] > 1.0 - DOLFIN_EPS || x[1] < DOLFIN_EPS\")\n",
    "    lid = fe.DirichletBC(W.sub(0), g, \"x[1] > 1.0 - DOLFIN_EPS\")\n",
    "    pref = fe.DirichletBC(W.sub(1), 0, \"x[0] < DOLFIN_EPS && x[1] < DOLFIN_EPS\", \"pointwise\")\n",
    "\n",
    "    bc = [noslip, lid, pref]\n",
    "\n",
    "    # Stabilization if needed\n",
    "    # h = fe.CellDiameter(mesh)\n",
    "    # alpha_u = fe.Constant(1.)\n",
    "    # delta_u = alpha_u*(h**2)\n",
    "    # alpha_p = fe.Constant(1.)\n",
    "    # delta_p = alpha_p*(h**2)\n",
    "    # rho = fe.Constant(0.)\n",
    "    # rho =   0 -> SUPG (Streamline updwind Petrov Galerkin)\n",
    "    # rho =   1 -> GALS (Galerkin least squares)\n",
    "    # rho = - 1 -> Douglas-Wang\n",
    "\n",
    "    # Tentative velocity step\n",
    "    F = fe.inner(u, v)/fe.Constant(TIME_STEP_LENGTH)*fe.dx \\\n",
    "        - fe.inner(u_prev, v)/fe.Constant(TIME_STEP_LENGTH)*fe.dx \\\n",
    "        + fe.inner(fe.grad(u) * u, v) * fe.dx \\\n",
    "        + KINEMATIC_VISCOSITY * fe.inner(fe.grad(u), fe.grad(v)) * fe.dx \\\n",
    "        - fe.div(v) * p * fe.dx \\\n",
    "        - q * fe.div(u) * fe.dx \n",
    "        # + fe.inner(- KINEMATIC_VISCOSITY*fe.div(fe.grad(u)) + fe.grad(p),\n",
    "        #            -  rho*fe.delta_u*KINEMATIC_VISCOSITY*fe.div(fe.grad(v)) + delta_p*fe.grad(q))*fe.dx  # Stabilization term \n",
    "\n",
    "    J = fe.derivative(F, up, delta_up)\n",
    "\n",
    "    snes_solver_parameters = {\"nonlinear_solver\": \"snes\",\n",
    "                            \"snes_solver\": {\"linear_solver\": \"mumps\",\n",
    "                                            \"maximum_iterations\": 20,\n",
    "                                            \"report\": False,\n",
    "                                            \"error_on_nonconvergence\": True}}\n",
    "\n",
    "    (u, p) = up.split()\n",
    "    u.rename(\"u\", \"\")\n",
    "    p.rename(\"p\",\"\")\n",
    "    xdmffile_u.write(u, indx_sim*TOTAL_TIME)\n",
    "    xdmffile_p.write(p, indx_sim*TOTAL_TIME)\n",
    "    \n",
    "    for i in tqdm(range(1, N_TIME_STEPS)):\n",
    "\n",
    "        # Go back to \"physical\" time in order to correctly update the BC\n",
    "        t = i*TIME_STEP_LENGTH\n",
    "        g.t = t\n",
    "\n",
    "        # KINEMATIC_VISCOSITY.assign(1.)\n",
    "        problem = fe.NonlinearVariationalProblem(F, up, bc, J)\n",
    "        solver  = fe.NonlinearVariationalSolver(problem)\n",
    "        solver.parameters.update(snes_solver_parameters)\n",
    "        solver.solve()\n",
    "\n",
    "        # Store the solution in up_prev\n",
    "        fe.assign(up_prev, up)\n",
    "\n",
    "        # Save\n",
    "        (u, p) = up.split()\n",
    "        u.rename(\"u\", \"\")\n",
    "        p.rename(\"p\",\"\")\n",
    "        xdmffile_u.write(u, t+indx_sim*TOTAL_TIME)\n",
    "        xdmffile_p.write(p, t+indx_sim*TOTAL_TIME)\n",
    "        "
   ]
  },
  {
   "cell_type": "code",
   "execution_count": 8,
   "id": "b7c327cf-d021-4545-a629-505b1ad5ccbc",
   "metadata": {},
   "outputs": [],
   "source": [
    "def main():\n",
    "    for i in range(N_SIM):\n",
    "        solve_problem(i) "
   ]
  },
  {
   "cell_type": "code",
   "execution_count": 9,
   "id": "2031a7dc-81a7-4a77-b0d8-53b369114b6e",
   "metadata": {},
   "outputs": [
    {
     "name": "stderr",
     "output_type": "stream",
     "text": [
      "  0%|                                                     | 0/9 [00:00<?, ?it/s]"
     ]
    },
    {
     "name": "stdout",
     "output_type": "stream",
     "text": [
      "Solving nonlinear variational problem.\n"
     ]
    },
    {
     "name": "stderr",
     "output_type": "stream",
     "text": [
      " 11%|█████                                        | 1/9 [00:07<01:00,  7.53s/it]"
     ]
    },
    {
     "name": "stdout",
     "output_type": "stream",
     "text": [
      "Solving nonlinear variational problem.\n"
     ]
    },
    {
     "name": "stderr",
     "output_type": "stream",
     "text": [
      " 22%|██████████                                   | 2/9 [00:15<00:52,  7.50s/it]"
     ]
    },
    {
     "name": "stdout",
     "output_type": "stream",
     "text": [
      "Solving nonlinear variational problem.\n"
     ]
    },
    {
     "name": "stderr",
     "output_type": "stream",
     "text": [
      " 33%|███████████████                              | 3/9 [00:22<00:45,  7.61s/it]"
     ]
    },
    {
     "name": "stdout",
     "output_type": "stream",
     "text": [
      "Solving nonlinear variational problem.\n"
     ]
    },
    {
     "name": "stderr",
     "output_type": "stream",
     "text": [
      " 44%|████████████████████                         | 4/9 [00:30<00:38,  7.67s/it]"
     ]
    },
    {
     "name": "stdout",
     "output_type": "stream",
     "text": [
      "Solving nonlinear variational problem.\n"
     ]
    },
    {
     "name": "stderr",
     "output_type": "stream",
     "text": [
      " 56%|█████████████████████████                    | 5/9 [00:38<00:30,  7.74s/it]"
     ]
    },
    {
     "name": "stdout",
     "output_type": "stream",
     "text": [
      "Solving nonlinear variational problem.\n"
     ]
    },
    {
     "name": "stderr",
     "output_type": "stream",
     "text": [
      " 67%|██████████████████████████████               | 6/9 [00:46<00:23,  7.83s/it]"
     ]
    },
    {
     "name": "stdout",
     "output_type": "stream",
     "text": [
      "Solving nonlinear variational problem.\n"
     ]
    },
    {
     "name": "stderr",
     "output_type": "stream",
     "text": [
      " 78%|███████████████████████████████████          | 7/9 [00:54<00:15,  7.92s/it]"
     ]
    },
    {
     "name": "stdout",
     "output_type": "stream",
     "text": [
      "Solving nonlinear variational problem.\n"
     ]
    },
    {
     "name": "stderr",
     "output_type": "stream",
     "text": [
      " 89%|████████████████████████████████████████     | 8/9 [01:02<00:08,  8.06s/it]"
     ]
    },
    {
     "name": "stdout",
     "output_type": "stream",
     "text": [
      "Solving nonlinear variational problem.\n"
     ]
    },
    {
     "name": "stderr",
     "output_type": "stream",
     "text": [
      "100%|█████████████████████████████████████████████| 9/9 [01:11<00:00,  7.92s/it]\n",
      "  0%|                                                     | 0/9 [00:00<?, ?it/s]"
     ]
    },
    {
     "name": "stdout",
     "output_type": "stream",
     "text": [
      "Solving nonlinear variational problem.\n"
     ]
    },
    {
     "name": "stderr",
     "output_type": "stream",
     "text": [
      " 11%|█████                                        | 1/9 [00:08<01:07,  8.40s/it]"
     ]
    },
    {
     "name": "stdout",
     "output_type": "stream",
     "text": [
      "Solving nonlinear variational problem.\n"
     ]
    },
    {
     "name": "stderr",
     "output_type": "stream",
     "text": [
      " 22%|██████████                                   | 2/9 [00:16<00:58,  8.35s/it]"
     ]
    },
    {
     "name": "stdout",
     "output_type": "stream",
     "text": [
      "Solving nonlinear variational problem.\n"
     ]
    },
    {
     "name": "stderr",
     "output_type": "stream",
     "text": [
      " 33%|███████████████                              | 3/9 [00:24<00:49,  8.31s/it]"
     ]
    },
    {
     "name": "stdout",
     "output_type": "stream",
     "text": [
      "Solving nonlinear variational problem.\n"
     ]
    },
    {
     "name": "stderr",
     "output_type": "stream",
     "text": [
      " 44%|████████████████████                         | 4/9 [00:33<00:41,  8.32s/it]"
     ]
    },
    {
     "name": "stdout",
     "output_type": "stream",
     "text": [
      "Solving nonlinear variational problem.\n"
     ]
    },
    {
     "name": "stderr",
     "output_type": "stream",
     "text": [
      " 56%|█████████████████████████                    | 5/9 [00:41<00:33,  8.26s/it]"
     ]
    },
    {
     "name": "stdout",
     "output_type": "stream",
     "text": [
      "Solving nonlinear variational problem.\n"
     ]
    },
    {
     "name": "stderr",
     "output_type": "stream",
     "text": [
      " 67%|██████████████████████████████               | 6/9 [00:49<00:24,  8.20s/it]"
     ]
    },
    {
     "name": "stdout",
     "output_type": "stream",
     "text": [
      "Solving nonlinear variational problem.\n"
     ]
    },
    {
     "name": "stderr",
     "output_type": "stream",
     "text": [
      " 78%|███████████████████████████████████          | 7/9 [00:57<00:16,  8.27s/it]"
     ]
    },
    {
     "name": "stdout",
     "output_type": "stream",
     "text": [
      "Solving nonlinear variational problem.\n"
     ]
    },
    {
     "name": "stderr",
     "output_type": "stream",
     "text": [
      " 89%|████████████████████████████████████████     | 8/9 [01:05<00:08,  8.17s/it]"
     ]
    },
    {
     "name": "stdout",
     "output_type": "stream",
     "text": [
      "Solving nonlinear variational problem.\n"
     ]
    },
    {
     "name": "stderr",
     "output_type": "stream",
     "text": [
      "100%|█████████████████████████████████████████████| 9/9 [01:13<00:00,  8.22s/it]\n",
      "  0%|                                                     | 0/9 [00:00<?, ?it/s]"
     ]
    },
    {
     "name": "stdout",
     "output_type": "stream",
     "text": [
      "Solving nonlinear variational problem.\n"
     ]
    },
    {
     "name": "stderr",
     "output_type": "stream",
     "text": [
      " 11%|█████                                        | 1/9 [00:07<01:03,  7.98s/it]"
     ]
    },
    {
     "name": "stdout",
     "output_type": "stream",
     "text": [
      "Solving nonlinear variational problem.\n"
     ]
    },
    {
     "name": "stderr",
     "output_type": "stream",
     "text": [
      " 22%|██████████                                   | 2/9 [00:18<01:04,  9.23s/it]"
     ]
    },
    {
     "name": "stdout",
     "output_type": "stream",
     "text": [
      "Solving nonlinear variational problem.\n"
     ]
    },
    {
     "name": "stderr",
     "output_type": "stream",
     "text": [
      " 33%|███████████████                              | 3/9 [00:28<00:57,  9.65s/it]"
     ]
    },
    {
     "name": "stdout",
     "output_type": "stream",
     "text": [
      "Solving nonlinear variational problem.\n"
     ]
    },
    {
     "name": "stderr",
     "output_type": "stream",
     "text": [
      " 44%|████████████████████                         | 4/9 [00:36<00:45,  9.01s/it]"
     ]
    },
    {
     "name": "stdout",
     "output_type": "stream",
     "text": [
      "Solving nonlinear variational problem.\n"
     ]
    },
    {
     "name": "stderr",
     "output_type": "stream",
     "text": [
      " 56%|█████████████████████████                    | 5/9 [00:46<00:37,  9.45s/it]"
     ]
    },
    {
     "name": "stdout",
     "output_type": "stream",
     "text": [
      "Solving nonlinear variational problem.\n"
     ]
    },
    {
     "name": "stderr",
     "output_type": "stream",
     "text": [
      " 67%|██████████████████████████████               | 6/9 [00:54<00:26,  8.94s/it]"
     ]
    },
    {
     "name": "stdout",
     "output_type": "stream",
     "text": [
      "Solving nonlinear variational problem.\n"
     ]
    },
    {
     "name": "stderr",
     "output_type": "stream",
     "text": [
      " 78%|███████████████████████████████████          | 7/9 [01:02<00:17,  8.60s/it]"
     ]
    },
    {
     "name": "stdout",
     "output_type": "stream",
     "text": [
      "Solving nonlinear variational problem.\n"
     ]
    },
    {
     "name": "stderr",
     "output_type": "stream",
     "text": [
      " 89%|████████████████████████████████████████     | 8/9 [01:10<00:08,  8.40s/it]"
     ]
    },
    {
     "name": "stdout",
     "output_type": "stream",
     "text": [
      "Solving nonlinear variational problem.\n"
     ]
    },
    {
     "name": "stderr",
     "output_type": "stream",
     "text": [
      "100%|█████████████████████████████████████████████| 9/9 [01:18<00:00,  8.71s/it]\n"
     ]
    }
   ],
   "source": [
    "if __name__ == \"__main__\":\n",
    "    main()"
   ]
  },
  {
   "cell_type": "code",
   "execution_count": null,
   "id": "52713184-a5ef-4217-b11c-3b539b44c5f1",
   "metadata": {},
   "outputs": [],
   "source": [
    "\n"
   ]
  }
 ],
 "metadata": {
  "kernelspec": {
   "display_name": "Python 3 (ipykernel)",
   "language": "python",
   "name": "python3"
  },
  "language_info": {
   "codemirror_mode": {
    "name": "ipython",
    "version": 3
   },
   "file_extension": ".py",
   "mimetype": "text/x-python",
   "name": "python",
   "nbconvert_exporter": "python",
   "pygments_lexer": "ipython3",
   "version": "3.11.5"
  }
 },
 "nbformat": 4,
 "nbformat_minor": 5
}
