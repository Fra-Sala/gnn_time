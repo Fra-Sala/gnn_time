{
 "cells": [
  {
   "cell_type": "code",
   "execution_count": 1,
   "id": "9aea1707-7b09-4b97-b851-cce9b36716c4",
   "metadata": {},
   "outputs": [],
   "source": [
    "import fenics as fe\n",
    "from tqdm import tqdm \n",
    "import matplotlib.pyplot as plt\n",
    "import numpy as np"
   ]
  },
  {
   "cell_type": "code",
   "execution_count": 2,
   "id": "a565fb35-4843-4bd6-a3f6-0306e0a5ad3e",
   "metadata": {},
   "outputs": [],
   "source": [
    "solver = fe.KrylovSolver('bicgstab', 'hypre_amg')\n",
    "\n",
    "solver.parameters['absolute_tolerance'] = 1e-6\n",
    "\n",
    "solver.parameters['relative_tolerance'] = 1e-6"
   ]
  },
  {
   "cell_type": "code",
   "execution_count": 3,
   "id": "011376fa-a613-407a-9819-bed46bc67a8c",
   "metadata": {},
   "outputs": [],
   "source": [
    "N_POINTS_P_AXIS = 50\n",
    "TIME_STEP_LENGTH = 0.05\n",
    "TOTAL_TIME = 10\n",
    "N_TIME_STEPS = np.floor(TOTAL_TIME/TIME_STEP_LENGTH).astype(int)\n",
    "KINEMATIC_VISCOSITY = 3e-3  # this value should give a max Re = 1500 for the prescribed u(t)\n",
    "time_vector = np.arange(0.0, TOTAL_TIME, TIME_STEP_LENGTH)\n"
   ]
  },
  {
   "cell_type": "code",
   "execution_count": 4,
   "id": "9d06a20a-820f-44de-87e0-238e8bb01b77",
   "metadata": {},
   "outputs": [],
   "source": [
    "def generate_u_t():\n",
    "    \n",
    "    \"\"\"The function returns the time series u(t). \n",
    "        u(t) is the BC on the lid (Gaussian Process). See Regazzoni et al.\"\"\"\n",
    "    \n",
    "    mu = 0.0\n",
    "    tau = 5.0\n",
    "    sigma = 5.0\n",
    "  \n",
    "    # Covariance kernel function\n",
    "    def covariance_kernel(t1, t2):\n",
    "        return sigma**2 * np.exp(-((t1 - t2)**2) / (2 * tau**2))\n",
    "\n",
    "    # Generate samples of A(t) and P(t) using the covariance kernel\n",
    "    mean = mu*np.ones(N_TIME_STEPS)\n",
    "    covariance_matrix = np.fromfunction(np.vectorize(lambda i, j: covariance_kernel(time_vector[i], time_vector[j])), (N_TIME_STEPS, N_TIME_STEPS), dtype=int)\n",
    "    u_t = np.random.multivariate_normal(mean, covariance_matrix)\n",
    "   \n",
    "    return u_t\n",
    "\n",
    "u_t = generate_u_t()\n",
    "#plt.plot(time_vector, u_t)\n",
    "\n",
    "def eval_u_t(t):\n",
    "    return u_t[np.where(np.abs(time_vector - t) < 1e-3)[0][0]]\n",
    "\n",
    "\n"
   ]
  },
  {
   "cell_type": "code",
   "execution_count": 5,
   "id": "a4132d5e-dca5-4ba0-b745-90abc8141d57",
   "metadata": {},
   "outputs": [],
   "source": [
    "# Define an expression for the BC u_t\n",
    "class u_t_Expression(fe.UserExpression):\n",
    "    def __init__(self, t, **kwargs):\n",
    "        super().__init__(**kwargs)\n",
    "        self.t = t\n",
    "    def eval(self, value, x):\n",
    "        value[0] = eval_u_t(self.t)\n",
    "        value[1] = 0.0\n",
    "    def value_shape(self):\n",
    "        return (2,) "
   ]
  },
  {
   "cell_type": "code",
   "execution_count": 6,
   "id": "3efe4474-66b5-4b2b-a323-8de3c376617f",
   "metadata": {},
   "outputs": [],
   "source": [
    "# Create XDMF files for visualization output\n",
    "xdmffile_u = fe.XDMFFile('lid_cavity.xdmf')\n",
    "xdmffile_p = fe.XDMFFile('lid_cavity_pressure.xdmf')\n",
    "xdmffile_u.parameters[\"flush_output\"] = True\n",
    "xdmffile_u.parameters[\"functions_share_mesh\"] = True\n",
    "xdmffile_p.parameters[\"flush_output\"] = True\n",
    "xdmffile_p.parameters[\"functions_share_mesh\"] = True\n",
    "\n",
    "\n",
    "# Create time series (not clear its purpose)\n",
    "# timeseries_u = fe.TimeSeries('velocity_series')\n",
    "# timeseries_p = fe.TimeSeries('pressure_series')"
   ]
  },
  {
   "cell_type": "code",
   "execution_count": 7,
   "id": "25037932-a570-4b48-9288-73fc11c104ca",
   "metadata": {},
   "outputs": [],
   "source": [
    "def main():\n",
    "    \n",
    "    mesh = fe.UnitSquareMesh(N_POINTS_P_AXIS, N_POINTS_P_AXIS) # this is a triangular-element mesh\n",
    "    \n",
    "   \n",
    "    # Taylor-Hood Elements. \n",
    "    velocity_function_space = fe.VectorFunctionSpace(mesh, \"Lagrange\", 2)\n",
    "    pressure_function_space = fe.FunctionSpace(mesh, \"Lagrange\", 1)\n",
    "\n",
    "    u_trial = fe.TrialFunction(velocity_function_space)\n",
    "    p_trial = fe.TrialFunction(pressure_function_space)\n",
    "    v_test = fe.TestFunction(velocity_function_space)\n",
    "    q_test = fe.TestFunction(pressure_function_space)\n",
    "\n",
    "    # Define the Boundary Condition\n",
    "    stationary_wall_boundary_condition = fe.DirichletBC(\n",
    "        velocity_function_space,\n",
    "        (0.0, 0.0),\n",
    "        \"\"\"\n",
    "        on_boundary && (x[0] < DOLFIN_EPS || x[1] < DOLFIN_EPS || x[0] > (1.0 - DOLFIN_EPS))\n",
    "        \"\"\"\n",
    "    )\n",
    "\n",
    "    g = u_t_Expression(t = 0.0, degree = 1) \n",
    "    moving_wall_boundary_condition = fe.DirichletBC(\n",
    "        velocity_function_space,\n",
    "        g,      #time-dependent expression for the velocity\n",
    "        \"\"\"\n",
    "        on_boundary  && (x[1] > (1.0 - DOLFIN_EPS))\n",
    "        \"\"\"\n",
    "        \n",
    "    )\n",
    "\n",
    "    # Put together the BCs\n",
    "    velocity_boundary_conditions = [stationary_wall_boundary_condition, moving_wall_boundary_condition]\n",
    "\n",
    "    # Define the solution fields involved\n",
    "    u_prev = fe.Function(velocity_function_space)\n",
    "    u_tent = fe.Function(velocity_function_space)\n",
    "    u_next = fe.Function(velocity_function_space)\n",
    "    p_next = fe.Function(pressure_function_space)\n",
    "\n",
    "    # Weak form of the momentum equation\n",
    "    momentum_weak_form_residuum = (\n",
    "        1.0 / TIME_STEP_LENGTH * fe.inner(u_trial - u_prev, v_test) * fe.dx\n",
    "        +\n",
    "        fe.inner(fe.grad(u_prev) * u_prev, v_test) * fe.dx\n",
    "        +\n",
    "        KINEMATIC_VISCOSITY * fe.inner(fe.grad(u_trial), fe.grad(v_test)) * fe.dx\n",
    "    )\n",
    "    momentum_weak_form_lhs = fe.lhs(momentum_weak_form_residuum)\n",
    "    momentum_weak_form_rhs = fe.rhs(momentum_weak_form_residuum)\n",
    "\n",
    "    # Weak form of the pressure poisson problem\n",
    "    pressure_poisson_weak_form_lhs = fe.inner(fe.grad(p_trial), fe.grad(q_test)) * fe.dx\n",
    "    pressure_poisson_weak_form_rhs = - 1.0 / TIME_STEP_LENGTH * fe.div(u_tent) * q_test * fe.dx\n",
    "\n",
    "    # Weak form of the velocity update equation\n",
    "    velocity_update_weak_form_lhs = fe.inner(u_trial, v_test) * fe.dx\n",
    "    velocity_update_weak_form_rhs = (\n",
    "        fe.inner(u_tent, v_test) * fe.dx\n",
    "        -\n",
    "        TIME_STEP_LENGTH * fe.inner(fe.grad(p_next), v_test) * fe.dx\n",
    "    )\n",
    "\n",
    "    # Pre-Compute the system matrices \n",
    "    momentum_assembled_system_matrix = fe.assemble(momentum_weak_form_lhs)\n",
    "    pressure_poisson_assembled_system_matrix = fe.assemble(pressure_poisson_weak_form_lhs)\n",
    "    velocity_update_assembled_system_matrix = fe.assemble(velocity_update_weak_form_lhs)\n",
    "\n",
    "\n",
    "\n",
    "    for t in tqdm(range(N_TIME_STEPS)):\n",
    "\n",
    "        # Go back to \"physical\" time in order to correctly update the BC\n",
    "        t = t*TOTAL_TIME/N_TIME_STEPS \n",
    "        \n",
    "        \n",
    "        g.t = t\n",
    "\n",
    "        # Solve for tentative velocity\n",
    "        momentum_assembled_rhs = fe.assemble(momentum_weak_form_rhs)\n",
    "        [bc.apply(momentum_assembled_system_matrix, momentum_assembled_rhs) for bc in velocity_boundary_conditions]\n",
    "        fe.solve(\n",
    "            momentum_assembled_system_matrix,\n",
    "            u_tent.vector(),\n",
    "            momentum_assembled_rhs,\n",
    "            \"gmres\",\n",
    "            \"ilu\",\n",
    "        )\n",
    "\n",
    "        # Solve for the pressure\n",
    "        pressure_poisson_assembled_rhs = fe.assemble(pressure_poisson_weak_form_rhs)\n",
    "        fe.solve(\n",
    "            pressure_poisson_assembled_system_matrix,\n",
    "            p_next.vector(),\n",
    "            pressure_poisson_assembled_rhs,\n",
    "            # \"gmres\",\n",
    "            # \"amg\",\n",
    "        )\n",
    "\n",
    "        # Correct the velocities to be incompressible\n",
    "        [bc.apply(momentum_assembled_system_matrix, momentum_assembled_rhs) for bc in velocity_boundary_conditions]\n",
    "        velocity_update_assembled_rhs = fe.assemble(velocity_update_weak_form_rhs)\n",
    "        fe.solve(\n",
    "            velocity_update_assembled_system_matrix,\n",
    "            u_next.vector(),\n",
    "            velocity_update_assembled_rhs,\n",
    "            # \"gmres\",\n",
    "            # \"ilu\",\n",
    "        )\n",
    "\n",
    "        # Advance in time\n",
    "        u_prev.assign(u_next)\n",
    "        \n",
    "      \n",
    "  \n",
    "        xdmffile_u.write(u_next, t)\n",
    "        xdmffile_p.write(p_next, t)\n",
    "\n",
    "    # Save nodal values to file\n",
    "        # timeseries_u.store(u_next.vector(), t)\n",
    "        # timeseries_p.store(p_next.vector(), t)\n",
    "\n",
    "        #Visualize interactively\n",
    "#         c = fe.plot(u_next)\n",
    "#         plt.colorbar(c)\n",
    "#         plt.draw()\n",
    "#         plt.pause(0.02)\n",
    "#         plt.clf()\n",
    "        "
   ]
  },
  {
   "cell_type": "code",
   "execution_count": 8,
   "id": "2031a7dc-81a7-4a77-b0d8-53b369114b6e",
   "metadata": {},
   "outputs": [
    {
     "name": "stdout",
     "output_type": "stream",
     "text": [
      "Calling FFC just-in-time (JIT) compiler, this may take some time.\n"
     ]
    },
    {
     "name": "stderr",
     "output_type": "stream",
     "text": [
      "  0%|          | 0/200 [00:00<?, ?it/s]"
     ]
    },
    {
     "name": "stdout",
     "output_type": "stream",
     "text": [
      "Calling FFC just-in-time (JIT) compiler, this may take some time.\n",
      "Calling FFC just-in-time (JIT) compiler, this may take some time.\n",
      "Calling FFC just-in-time (JIT) compiler, this may take some time.\n"
     ]
    },
    {
     "name": "stderr",
     "output_type": "stream",
     "text": [
      " 14%|█▍        | 28/200 [00:12<01:16,  2.25it/s]\n"
     ]
    },
    {
     "ename": "RuntimeError",
     "evalue": "\n\n*** -------------------------------------------------------------------------\n*** DOLFIN encountered an error. If you are not able to resolve this issue\n*** using the information listed below, you can ask for help at\n***\n***     fenics-support@googlegroups.com\n***\n*** Remember to include the error message listed below and, if possible,\n*** include a *minimal* running example to reproduce the error.\n***\n*** -------------------------------------------------------------------------\n*** Error:   Unable to solve linear system using PETSc Krylov solver.\n*** Reason:  Solution failed to converge in 0 iterations (PETSc reason DIVERGED_NANORINF, residual norm ||r|| = inf).\n*** Where:   This error was encountered inside PETScKrylovSolver.cpp.\n*** Process: 0\n*** \n*** DOLFIN version: 2019.1.0\n*** Git changeset:  12ef077802cc9fad34cf984ec7af80585b44301b\n*** -------------------------------------------------------------------------\n",
     "output_type": "error",
     "traceback": [
      "\u001b[0;31m---------------------------------------------------------------------------\u001b[0m",
      "\u001b[0;31mRuntimeError\u001b[0m                              Traceback (most recent call last)",
      "Cell \u001b[0;32mIn[8], line 2\u001b[0m\n\u001b[1;32m      1\u001b[0m \u001b[38;5;28;01mif\u001b[39;00m \u001b[38;5;18m__name__\u001b[39m \u001b[38;5;241m==\u001b[39m \u001b[38;5;124m\"\u001b[39m\u001b[38;5;124m__main__\u001b[39m\u001b[38;5;124m\"\u001b[39m:\n\u001b[0;32m----> 2\u001b[0m     main()\n",
      "Cell \u001b[0;32mIn[7], line 84\u001b[0m, in \u001b[0;36mmain\u001b[0;34m()\u001b[0m\n\u001b[1;32m     82\u001b[0m momentum_assembled_rhs \u001b[38;5;241m=\u001b[39m fe\u001b[38;5;241m.\u001b[39massemble(momentum_weak_form_rhs)\n\u001b[1;32m     83\u001b[0m [bc\u001b[38;5;241m.\u001b[39mapply(momentum_assembled_system_matrix, momentum_assembled_rhs) \u001b[38;5;28;01mfor\u001b[39;00m bc \u001b[38;5;129;01min\u001b[39;00m velocity_boundary_conditions]\n\u001b[0;32m---> 84\u001b[0m fe\u001b[38;5;241m.\u001b[39msolve(\n\u001b[1;32m     85\u001b[0m     momentum_assembled_system_matrix,\n\u001b[1;32m     86\u001b[0m     u_tent\u001b[38;5;241m.\u001b[39mvector(),\n\u001b[1;32m     87\u001b[0m     momentum_assembled_rhs,\n\u001b[1;32m     88\u001b[0m     \u001b[38;5;124m\"\u001b[39m\u001b[38;5;124mgmres\u001b[39m\u001b[38;5;124m\"\u001b[39m,\n\u001b[1;32m     89\u001b[0m     \u001b[38;5;124m\"\u001b[39m\u001b[38;5;124milu\u001b[39m\u001b[38;5;124m\"\u001b[39m,\n\u001b[1;32m     90\u001b[0m )\n\u001b[1;32m     92\u001b[0m \u001b[38;5;66;03m# Solve for the pressure\u001b[39;00m\n\u001b[1;32m     93\u001b[0m pressure_poisson_assembled_rhs \u001b[38;5;241m=\u001b[39m fe\u001b[38;5;241m.\u001b[39massemble(pressure_poisson_weak_form_rhs)\n",
      "File \u001b[0;32m~/anaconda3/envs/fenicsproject/lib/python3.11/site-packages/dolfin/fem/solving.py:227\u001b[0m, in \u001b[0;36msolve\u001b[0;34m(*args, **kwargs)\u001b[0m\n\u001b[1;32m    224\u001b[0m \u001b[38;5;28;01mif\u001b[39;00m kwargs:\n\u001b[1;32m    225\u001b[0m     \u001b[38;5;28;01mraise\u001b[39;00m \u001b[38;5;167;01mRuntimeError\u001b[39;00m(\u001b[38;5;124m\"\u001b[39m\u001b[38;5;124mNot expecting keyword arguments when solving linear algebra problem.\u001b[39m\u001b[38;5;124m\"\u001b[39m)\n\u001b[0;32m--> 227\u001b[0m \u001b[38;5;28;01mreturn\u001b[39;00m dolfin\u001b[38;5;241m.\u001b[39mla\u001b[38;5;241m.\u001b[39msolver\u001b[38;5;241m.\u001b[39msolve(\u001b[38;5;241m*\u001b[39margs)\n",
      "File \u001b[0;32m~/anaconda3/envs/fenicsproject/lib/python3.11/site-packages/dolfin/la/solver.py:72\u001b[0m, in \u001b[0;36msolve\u001b[0;34m(A, x, b, method, preconditioner)\u001b[0m\n\u001b[1;32m     27\u001b[0m \u001b[38;5;28;01mdef\u001b[39;00m \u001b[38;5;21msolve\u001b[39m(A, x, b, method\u001b[38;5;241m=\u001b[39m\u001b[38;5;124m\"\u001b[39m\u001b[38;5;124mdefault\u001b[39m\u001b[38;5;124m\"\u001b[39m, preconditioner\u001b[38;5;241m=\u001b[39m\u001b[38;5;124m\"\u001b[39m\u001b[38;5;124mdefault\u001b[39m\u001b[38;5;124m\"\u001b[39m):\n\u001b[1;32m     28\u001b[0m \u001b[38;5;250m    \u001b[39m\u001b[38;5;124;03m\"\"\"Solve linear system Ax = b.\u001b[39;00m\n\u001b[1;32m     29\u001b[0m \n\u001b[1;32m     30\u001b[0m \u001b[38;5;124;03m    A linear system Ax = b may be solved by calling solve(A, x, b),\u001b[39;00m\n\u001b[0;32m   (...)\u001b[0m\n\u001b[1;32m     69\u001b[0m \n\u001b[1;32m     70\u001b[0m \u001b[38;5;124;03m    \"\"\"\u001b[39;00m\n\u001b[0;32m---> 72\u001b[0m     \u001b[38;5;28;01mreturn\u001b[39;00m cpp\u001b[38;5;241m.\u001b[39mla\u001b[38;5;241m.\u001b[39msolve(A, x, b, method, preconditioner)\n",
      "\u001b[0;31mRuntimeError\u001b[0m: \n\n*** -------------------------------------------------------------------------\n*** DOLFIN encountered an error. If you are not able to resolve this issue\n*** using the information listed below, you can ask for help at\n***\n***     fenics-support@googlegroups.com\n***\n*** Remember to include the error message listed below and, if possible,\n*** include a *minimal* running example to reproduce the error.\n***\n*** -------------------------------------------------------------------------\n*** Error:   Unable to solve linear system using PETSc Krylov solver.\n*** Reason:  Solution failed to converge in 0 iterations (PETSc reason DIVERGED_NANORINF, residual norm ||r|| = inf).\n*** Where:   This error was encountered inside PETScKrylovSolver.cpp.\n*** Process: 0\n*** \n*** DOLFIN version: 2019.1.0\n*** Git changeset:  12ef077802cc9fad34cf984ec7af80585b44301b\n*** -------------------------------------------------------------------------\n"
     ]
    }
   ],
   "source": [
    "if __name__ == \"__main__\":\n",
    "    main()"
   ]
  }
 ],
 "metadata": {
  "kernelspec": {
   "display_name": "Python 3 (ipykernel)",
   "language": "python",
   "name": "python3"
  },
  "language_info": {
   "codemirror_mode": {
    "name": "ipython",
    "version": 3
   },
   "file_extension": ".py",
   "mimetype": "text/x-python",
   "name": "python",
   "nbconvert_exporter": "python",
   "pygments_lexer": "ipython3",
   "version": "3.11.5"
  }
 },
 "nbformat": 4,
 "nbformat_minor": 5
}
